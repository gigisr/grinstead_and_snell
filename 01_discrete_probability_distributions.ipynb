{
 "cells": [
  {
   "cell_type": "markdown",
   "metadata": {},
   "source": [
    "# Grinstead and Snell's Introduction to Probability\n",
    "\n",
    "## Python setup"
   ]
  },
  {
   "cell_type": "code",
   "execution_count": 141,
   "metadata": {},
   "outputs": [],
   "source": [
    "import IPython.core.display as ICD\n",
    "import random\n",
    "import re\n",
    "\n",
    "import pandas as pd\n",
    "import numpy as np\n",
    "import matplotlib.pyplot as plt\n",
    "import seaborn as sns\n",
    "\n",
    "pd.set_option('display.max_rows', 12)\n",
    "pd.set_option('display.max_columns', None)\n",
    "\n",
    "%matplotlib inline"
   ]
  },
  {
   "cell_type": "markdown",
   "metadata": {},
   "source": [
    "## Chapter 1 - Discrete probability distributions\n",
    "\n",
    "### 1.1 Simulation of discrete probabilities\n",
    "\n",
    "#### Example 1.1 (Random Number Generation)\n",
    "\n",
    "The program `RandomNumbers` generates n random real numbers in the interval [0,1], where n is chosen by the user. When we ran the program with n = 20, we obtained the data shown below."
   ]
  },
  {
   "cell_type": "code",
   "execution_count": 4,
   "metadata": {},
   "outputs": [],
   "source": [
    "def RandomNumbers(n):\n",
    "    if (not str(n).isdigit()) | (n < 0):\n",
    "        raise ValueError('The n argument passed is not valid.')\n",
    "    return [random.random() for x in range(0, n)]"
   ]
  },
  {
   "cell_type": "code",
   "execution_count": 5,
   "metadata": {},
   "outputs": [
    {
     "data": {
      "text/plain": [
       "[0.6382013794642474,\n",
       " 0.6934416883497382,\n",
       " 0.8577367960826285,\n",
       " 0.14600367570376782,\n",
       " 0.689579322489631,\n",
       " 0.6079922607208508,\n",
       " 0.8085902781122564,\n",
       " 0.7616961475388548,\n",
       " 0.3823069982018491,\n",
       " 0.9187893718189414,\n",
       " 0.6275924499692517,\n",
       " 0.3360970868017783,\n",
       " 0.7942973962176761,\n",
       " 0.5253109915196735,\n",
       " 0.18727078368243177,\n",
       " 0.6321079090917179,\n",
       " 0.21187552254030972,\n",
       " 0.4121874808538075,\n",
       " 0.08984738323857977,\n",
       " 0.14456727299148697]"
      ]
     },
     "execution_count": 5,
     "metadata": {},
     "output_type": "execute_result"
    }
   ],
   "source": [
    "RandomNumbers(20)"
   ]
  },
  {
   "cell_type": "markdown",
   "metadata": {},
   "source": [
    "#### Example 1.2 (Coin Tossing) \n",
    "\n",
    "As we have noted, our intuition suggests that the probability of obtaining a head on a single toss of a coin is 1/2. To have the computer toss a coin, we can ask it to pick a random real number in the interval [0,1] and test to see if this number is less than 1/2. If so, we shall call the outcome heads; if not we call it tails. Another way to proceed would be to ask the computer to pick a random integer from the set {0,1}. The program `CoinTosses` carries out the experiment of tossing a coin n times. Running this program, with n = 20, resulted in:\n",
    "\n",
    "THTTTHTTTTHTTTTTHHTT\n",
    "\n",
    "Note that in 20 tosses, we obtained 5 heads and 15 tails. Let us toss a coin n times, where n is much larger than 20, and see if we obtain a proportion of heads closer to our intuitive guess of 1/2. The program `CoinTosses` keeps track of the number of heads. When we ran this program with n = 1000, we obtained 494 heads. When we ran it with n = 10000, we obtained 5039 heads.\n",
    "\n",
    "We notice that when we tossed the coin 10,000 times, the proportion of heads was close to the “true value” .5 for obtaining a head when a coin is tossed. A mathematical model for this experiment is called Bernoulli Trials (see Chapter 3). The Law of Large Numbers, which we shall study later (see Chapter 8), will show that in the Bernoulli Trials model, the proportion of heads should be near .5, consistent with our intuitive idea of the frequency interpretation of probability. Of course, our program could be easily modiﬁed to simulate coins for which the probability of a head is p, where p is a real number between 0 and 1. "
   ]
  },
  {
   "cell_type": "code",
   "execution_count": 6,
   "metadata": {},
   "outputs": [],
   "source": [
    "def CoinTosses(n):\n",
    "    s_rand = pd.Series(RandomNumbers(n))\n",
    "    s_out = s_rand.map(lambda x: 'T' if x < 0.5 else 'H')\n",
    "    return ''.join(s_out.values.tolist())"
   ]
  },
  {
   "cell_type": "code",
   "execution_count": 7,
   "metadata": {},
   "outputs": [
    {
     "name": "stdout",
     "output_type": "stream",
     "text": [
      "TTHTTHHHHHHHHTHHHTHH\n",
      "The number of heads: 14\n",
      "The number of tails: 6\n",
      "The final proportion, count(H) / count(runs): 0.3\n",
      "\n",
      "HHHHHTHTHTHHHHHHHTTHHTHHTTTHHTHHHTHHTTHTTHHHTTHTHHHTHHHHTHTHTTTHTTTHTTHHHTHHTHTTHTHTHHHHTHTTTHHHTHHH\n",
      "The number of heads: 60\n",
      "The number of tails: 40\n",
      "The final proportion, count(H) / count(runs): 0.4\n",
      "\n",
      "HHHTHHHTTHHTHHHHHHHHHTHHTHHTTHTHTHTTHTHTHTHHHHTTTT...\n",
      "The number of heads: 2504\n",
      "The number of tails: 2496\n",
      "The final proportion, count(H) / count(runs): 0.4992\n"
     ]
    }
   ],
   "source": [
    "var_test = CoinTosses(20)\n",
    "print(var_test)\n",
    "print('The number of heads:', len(var_test.replace('T', '')))\n",
    "print('The number of tails:', len(var_test.replace('H', '')))\n",
    "print('The final proportion, count(H) / count(runs):', len(var_test.replace('H', '')) / len(var_test))\n",
    "print()\n",
    "var_test = CoinTosses(100)\n",
    "print(var_test)\n",
    "print('The number of heads:', len(var_test.replace('T', '')))\n",
    "print('The number of tails:', len(var_test.replace('H', '')))\n",
    "print('The final proportion, count(H) / count(runs):', len(var_test.replace('H', '')) / len(var_test))\n",
    "print()\n",
    "var_test = CoinTosses(5000)\n",
    "print(var_test[0:50], '...', sep='')\n",
    "print('The number of heads:', len(var_test.replace('T', '')))\n",
    "print('The number of tails:', len(var_test.replace('H', '')))\n",
    "print('The final proportion, count(H) / count(runs):', len(var_test.replace('H', '')) / len(var_test))"
   ]
  },
  {
   "cell_type": "markdown",
   "metadata": {},
   "source": [
    "#### Example 1.3 (Dice Rolling)\n",
    "\n",
    "We consider a dice game that played an important role in the historical development of probability. The famous letters between Pascal and Fermat, which many believe started a serious study of probability, were instigated by a request for help from a French nobleman and gambler, Chevalier de M´ er´ e. It is said that de M´ er´ e had been betting that, in four rolls of a die, at least one six would turn up. He was winning consistently and, to get more people to play, he changed the game to bet that, in 24 rolls of two dice, a pair of sixes would turn up. It is claimed that de M´ er´ e lost with 24 and felt that 25 rolls were necessary to make the game favorable. It was un grand scandale that mathematics was wrong. \n",
    "\n",
    "We shall try to see if de M´ er´ e is correct by simulating his various bets. The program `DeMere1` simulates a large number of experiments, seeing, in each one, if a six turns up in four rolls of a die. When we ran this program for 1000 plays, a six came up in the ﬁrst four rolls 48.6 percent of the time. When we ran it for 10,000 plays this happened 51.98 percent of the time. We note that the result of the second run suggests that de M´ er´ e was correct in believing that his bet with one die was favorable; however, if we had based our conclusion on the ﬁrst run, we would have decided that he was wrong. Accurate results by simulation require a large number of experiments. "
   ]
  },
  {
   "cell_type": "code",
   "execution_count": 8,
   "metadata": {},
   "outputs": [],
   "source": [
    "def DeMere1(n, roll_count):\n",
    "    list_rand = [[random.choice([1, 2, 3, 4, 5, 6]) for y in range(0, roll_count)] for x in range(0, n)]\n",
    "    s_rand = pd.Series(list_rand)\n",
    "    s_outcome = s_rand.map(lambda x: 6 in x)\n",
    "    df_out = pd.concat([s_rand, s_outcome], axis=1)\n",
    "    return df_out"
   ]
  },
  {
   "cell_type": "code",
   "execution_count": 9,
   "metadata": {},
   "outputs": [
    {
     "data": {
      "text/plain": [
       "True     0.529\n",
       "False    0.471\n",
       "Name: 1, dtype: float64"
      ]
     },
     "metadata": {},
     "output_type": "display_data"
    },
    {
     "data": {
      "text/plain": [
       "True     0.5186\n",
       "False    0.4814\n",
       "Name: 1, dtype: float64"
      ]
     },
     "metadata": {},
     "output_type": "display_data"
    },
    {
     "data": {
      "text/plain": [
       "True     0.51819\n",
       "False    0.48181\n",
       "Name: 1, dtype: float64"
      ]
     },
     "metadata": {},
     "output_type": "display_data"
    },
    {
     "data": {
      "text/plain": [
       "True     0.516762\n",
       "False    0.483238\n",
       "Name: 1, dtype: float64"
      ]
     },
     "metadata": {},
     "output_type": "display_data"
    }
   ],
   "source": [
    "df_test = DeMere1(1000, 4)\n",
    "ICD.display(df_test[1].value_counts() / df_test.shape[0])\n",
    "\n",
    "df_test = DeMere1(10000, 4)\n",
    "ICD.display(df_test[1].value_counts() / df_test.shape[0])\n",
    "\n",
    "df_test = DeMere1(100000, 4)\n",
    "ICD.display(df_test[1].value_counts() / df_test.shape[0])\n",
    "\n",
    "df_test = DeMere1(1000000, 4)\n",
    "ICD.display(df_test[1].value_counts() / df_test.shape[0])"
   ]
  },
  {
   "cell_type": "markdown",
   "metadata": {},
   "source": [
    "The program `DeMere2` simulates de M´ er´e’s second bet that a pair of sixes will occur in n rolls of a pair of dice."
   ]
  },
  {
   "cell_type": "code",
   "execution_count": 10,
   "metadata": {},
   "outputs": [],
   "source": [
    "def DeMere2(n, roll_count):\n",
    "    list_rand = [[\n",
    "        [random.choice([1, 2, 3, 4, 5, 6]), random.choice([1, 2, 3, 4, 5, 6])] \n",
    "        for y in range(0, roll_count)] for x in range(0, n)\n",
    "    ]\n",
    "    s_rand = pd.Series(list_rand)\n",
    "    s_outcome = s_rand.map(lambda x: [6, 6] in x)\n",
    "    df_out = pd.concat([s_rand, s_outcome], axis=1)\n",
    "    return df_out"
   ]
  },
  {
   "cell_type": "code",
   "execution_count": 11,
   "metadata": {},
   "outputs": [
    {
     "data": {
      "text/plain": [
       "True     0.5045\n",
       "False    0.4955\n",
       "Name: 1, dtype: float64"
      ]
     },
     "metadata": {},
     "output_type": "display_data"
    },
    {
     "data": {
      "text/plain": [
       "False    0.50951\n",
       "True     0.49049\n",
       "Name: 1, dtype: float64"
      ]
     },
     "metadata": {},
     "output_type": "display_data"
    },
    {
     "data": {
      "text/plain": [
       "True     0.5128\n",
       "False    0.4872\n",
       "Name: 1, dtype: float64"
      ]
     },
     "metadata": {},
     "output_type": "display_data"
    },
    {
     "data": {
      "text/plain": [
       "True     0.50448\n",
       "False    0.49552\n",
       "Name: 1, dtype: float64"
      ]
     },
     "metadata": {},
     "output_type": "display_data"
    }
   ],
   "source": [
    "df_test = DeMere2(10000, 24)\n",
    "ICD.display(df_test[1].value_counts() / df_test.shape[0])\n",
    "\n",
    "df_test = DeMere2(100000, 24)\n",
    "ICD.display(df_test[1].value_counts() / df_test.shape[0])\n",
    "\n",
    "df_test = DeMere2(10000, 25)\n",
    "ICD.display(df_test[1].value_counts() / df_test.shape[0])\n",
    "\n",
    "df_test = DeMere2(100000, 25)\n",
    "ICD.display(df_test[1].value_counts() / df_test.shape[0])"
   ]
  },
  {
   "cell_type": "markdown",
   "metadata": {},
   "source": [
    "#### Example 1.4 (Heads or Tails) \n",
    "\n",
    "For our next example, we consider a problem where the exact answer is diﬃcult to obtain but for which simulation easily gives the qualitative results. Peter and Paul play a game called heads or tails. In this game, a fair coin is tossed a sequence of times—we choose 40. Each time a head comes up Peter wins 1 penny from Paul, and each time a tail comes up Peter loses 1 penny to Paul. For example, if the results of the 40 tosses are\n",
    "\n",
    "THTHHHHTTHTHHTTHHTTTTHHHTHHTHHHTHHHTTTHH.\n",
    "\n",
    "It is natural to ask for the probability that he will win j pennies; here j could be any even number from −40 to 40. It is reasonable to guess that the value of j with the highest probability is j = 0, since this occurs when the number of heads equals the number of tails. Similarly, we would guess that the values of j with the lowest probabilities are j = ±40."
   ]
  },
  {
   "cell_type": "code",
   "execution_count": 12,
   "metadata": {},
   "outputs": [],
   "source": [
    "def HeadsOrTails(n):\n",
    "    list_rand = [random.choice(['T', 'H']) for x in range(0, n)]\n",
    "    s_rand = pd.Series(list_rand)\n",
    "    s_amt = s_rand.map({'H': 1, 'T': -1})\n",
    "    s_cumsum = s_amt.cumsum()\n",
    "    s_in_lead = s_cumsum > 0\n",
    "    s_in_lead = s_in_lead | ((s_cumsum == 0) & s_in_lead.shift())\n",
    "    df_out = pd.concat([s_rand, s_amt, s_cumsum, s_in_lead], axis=1)\n",
    "    return df_out"
   ]
  },
  {
   "cell_type": "code",
   "execution_count": 13,
   "metadata": {},
   "outputs": [],
   "source": [
    "def HTSimulation(n, run_length=40):\n",
    "    list_sims = [HeadsOrTails(run_length) for x in range(0, int(n))]\n",
    "    return list_sims"
   ]
  },
  {
   "cell_type": "code",
   "execution_count": 14,
   "metadata": {},
   "outputs": [
    {
     "name": "stdout",
     "output_type": "stream",
     "text": [
      "Wall time: 53.3 s\n"
     ]
    }
   ],
   "source": [
    "%%time\n",
    "list_test = HTSimulation(10e3, 40)"
   ]
  },
  {
   "cell_type": "code",
   "execution_count": 15,
   "metadata": {},
   "outputs": [
    {
     "data": {
      "text/plain": [
       "<matplotlib.axes._subplots.AxesSubplot at 0x2273c316438>"
      ]
     },
     "execution_count": 15,
     "metadata": {},
     "output_type": "execute_result"
    },
    {
     "data": {
      "image/png": "[encoded data removed]",
      "text/plain": [
       "<Figure size 432x288 with 1 Axes>"
      ]
     },
     "metadata": {},
     "output_type": "display_data"
    }
   ],
   "source": [
    "list_outcomes = [x[1].sum() for x in list_test]\n",
    "pd.Series(list_outcomes).hist(bins=len(set(list_outcomes)))"
   ]
  },
  {
   "cell_type": "markdown",
   "metadata": {},
   "source": [
    "A second interesting question about this game is the following: How many times in the 40 tosses will Peter be in the lead? Looking at the graph of his winnings (above), we see that Peter is in the lead when his winnings are positive, but we have to make some convention when his winnings are 0 if we want all tosses to contribute to the number of times in the lead. We adopt the convention that, when Peter’s winnings are 0, he is in the lead if he was ahead at the previous toss and not if he was behind at the previous toss. With this convention, Peter is in the lead 34 times in our example. Again, our intuition might suggest that the most likely number of times to be in the lead is 1/2 of 40, or 20, and the least likely numbers are the extreme cases of 40 or 0. \n",
    "\n",
    "It is easy to settle this by simulating the game a large number of times and keeping track of the number of times that Peter’s ﬁnal winnings are j, and the number of times that Peter ends up being in the lead by k. The proportions over all games then give estimates for the corresponding probabilities. The program `HTSimulation` carries out this simulation. Note that when there are an even number of tosses in the game, it is possible to be in the lead only an even number of times. We have simulated this game 10,000 times. \n",
    "\n",
    "These graphs, which we call spike graphs, were generated using the program `Spikegraph`. The vertical line, or spike, at position x on the horizontal axis, has a height equal to the proportion of outcomes which equal x. Our intuition about Peter’s ﬁnal winnings was quite correct, but our intuition about the number of times Peter was in the lead was completely wrong. The simulation suggests that the least likely number of times in the lead is 20 and the most likely is 0 or 40. This is indeed correct, and the explanation for it is suggested by playing the game of heads or tails with a large number of tosses and looking at a graph of Peter’s winnings."
   ]
  },
  {
   "cell_type": "code",
   "execution_count": 16,
   "metadata": {},
   "outputs": [],
   "source": [
    "def Spikegraph(values):\n",
    "    plt.figure()\n",
    "    values.plot()\n",
    "    plt.hlines(y=0, xmin=0, xmax=len(values))"
   ]
  },
  {
   "cell_type": "code",
   "execution_count": 17,
   "metadata": {},
   "outputs": [
    {
     "data": {
      "image/png": "[encoded data removed]",
      "text/plain": [
       "<Figure size 432x288 with 1 Axes>"
      ]
     },
     "metadata": {},
     "output_type": "display_data"
    },
    {
     "data": {
      "image/png": "[encoded data removed]",
      "text/plain": [
       "<Figure size 432x288 with 1 Axes>"
      ]
     },
     "metadata": {},
     "output_type": "display_data"
    },
    {
     "data": {
      "image/png": "[encoded data removed]",
      "text/plain": [
       "<Figure size 432x288 with 1 Axes>"
      ]
     },
     "metadata": {},
     "output_type": "display_data"
    }
   ],
   "source": [
    "Spikegraph(list_test[0][2])\n",
    "Spikegraph(list_test[1][2])\n",
    "Spikegraph(list_test[2][2])"
   ]
  },
  {
   "cell_type": "markdown",
   "metadata": {},
   "source": [
    "#### Example 1.5 (Horse Races) \n",
    "\n",
    "Four horses (Acorn, Balky, Chestnut, and Dolby) have raced many times. It is estimated that Acorn wins 30 percent of the time, Balky 40 percent of the time, Chestnut 20 percent of the time, and Dolby 10 percent of the time. \n",
    "\n",
    "We can have our computer carry out one race as follows: Choose a random number x. If x < .3 then we say that Acorn won. If .3 ≤ x < .7 then Balky wins. If .7 ≤x < .9 then Chestnut wins. Finally, if .9 ≤ x then Dolby wins. \n",
    "\n",
    "The program `HorseRace` uses this method to simulate the outcomes of n races. Running this program for n = 10 we found that Acorn won 40 percent of the time, Balky 20 percent of the time, Chestnut 10 percent of the time, and Dolby 30 percent of the time. A larger number of races would be necessary to have better agreement with the past experience. Therefore we ran the program to simulate 1000 races with our four horses. Although very tired after all these races, they performed in a manner quite consistent with our estimates of their abilities. Acorn won 29.8 percent of the time, Balky 39.4 percent, Chestnut 19.5 percent, and Dolby 11.3 percent of the time. "
   ]
  },
  {
   "cell_type": "code",
   "execution_count": 18,
   "metadata": {},
   "outputs": [],
   "source": [
    "def HorseRace(n):\n",
    "    list_rand = RandomNumbers(n)\n",
    "    s_rand = pd.Series(list_rand)\n",
    "    s_horses = pd.cut(s_rand, [0, 0.3, 0.7, 0.9, 1.1], labels=['Acron', 'Balky', 'Chestnut', 'Dolby'])\n",
    "    df_out = pd.concat([s_rand, s_horses], axis=1)\n",
    "    return df_out"
   ]
  },
  {
   "cell_type": "code",
   "execution_count": 19,
   "metadata": {},
   "outputs": [
    {
     "data": {
      "text/plain": [
       "Acron       0.270\n",
       "Balky       0.437\n",
       "Chestnut    0.187\n",
       "Dolby       0.106\n",
       "Name: 1, dtype: float64"
      ]
     },
     "metadata": {},
     "output_type": "display_data"
    },
    {
     "data": {
      "text/plain": [
       "Acron       0.3008\n",
       "Balky       0.3983\n",
       "Chestnut    0.2015\n",
       "Dolby       0.0994\n",
       "Name: 1, dtype: float64"
      ]
     },
     "metadata": {},
     "output_type": "display_data"
    },
    {
     "data": {
      "text/plain": [
       "Acron       0.29813\n",
       "Balky       0.39958\n",
       "Chestnut    0.20288\n",
       "Dolby       0.09941\n",
       "Name: 1, dtype: float64"
      ]
     },
     "metadata": {},
     "output_type": "display_data"
    }
   ],
   "source": [
    "df_test = HorseRace(1000)\n",
    "ICD.display(df_test[1].value_counts().sort_index() / df_test.shape[0])\n",
    "\n",
    "df_test = HorseRace(10000)\n",
    "ICD.display(df_test[1].value_counts().sort_index() / df_test.shape[0])\n",
    "\n",
    "df_test = HorseRace(100000)\n",
    "ICD.display(df_test[1].value_counts().sort_index() / df_test.shape[0])"
   ]
  },
  {
   "cell_type": "markdown",
   "metadata": {},
   "source": [
    "The program `GeneralSimulation` uses this method to simulate repetitions of an arbitrary experiment with a ﬁnite number of outcomes occurring with known probabilities. "
   ]
  },
  {
   "cell_type": "code",
   "execution_count": 20,
   "metadata": {},
   "outputs": [],
   "source": [
    "def GeneralSimulation(n, list_odds, list_labels):\n",
    "    list_rand = RandomNumbers(n)\n",
    "    s_rand = pd.Series(list_rand)\n",
    "    list_odds_use = [0] + [x for x in pd.Series(list_odds).cumsum().values]\n",
    "    list_odds_use[len(list_odds_use) - 1] = 1.1\n",
    "    s_outcomes = pd.cut(s_rand, list_odds_use, labels=list_labels)\n",
    "    df_out = pd.concat([s_rand, s_outcomes], axis=1)\n",
    "    return df_out"
   ]
  },
  {
   "cell_type": "code",
   "execution_count": 21,
   "metadata": {},
   "outputs": [
    {
     "data": {
      "text/plain": [
       "Acorn       0.317\n",
       "Balky       0.405\n",
       "Chestnut    0.184\n",
       "Dolby       0.094\n",
       "Name: 1, dtype: float64"
      ]
     },
     "metadata": {},
     "output_type": "display_data"
    },
    {
     "data": {
      "text/plain": [
       "Acorn       0.2971\n",
       "Balky       0.4041\n",
       "Chestnut    0.2010\n",
       "Dolby       0.0978\n",
       "Name: 1, dtype: float64"
      ]
     },
     "metadata": {},
     "output_type": "display_data"
    },
    {
     "data": {
      "text/plain": [
       "Acorn       0.30080\n",
       "Balky       0.40077\n",
       "Chestnut    0.19981\n",
       "Dolby       0.09862\n",
       "Name: 1, dtype: float64"
      ]
     },
     "metadata": {},
     "output_type": "display_data"
    }
   ],
   "source": [
    "df_test = GeneralSimulation(1000, [0.3, 0.4, 0.2, 0.1], ['Acorn', 'Balky', 'Chestnut', 'Dolby'])\n",
    "ICD.display(df_test[1].value_counts().sort_index() / df_test.shape[0])\n",
    "\n",
    "df_test = GeneralSimulation(10000, [0.3, 0.4, 0.2, 0.1], ['Acorn', 'Balky', 'Chestnut', 'Dolby'])\n",
    "ICD.display(df_test[1].value_counts().sort_index() / df_test.shape[0])\n",
    "\n",
    "df_test = GeneralSimulation(100000, [0.3, 0.4, 0.2, 0.1], ['Acorn', 'Balky', 'Chestnut', 'Dolby'])\n",
    "ICD.display(df_test[1].value_counts().sort_index() / df_test.shape[0])"
   ]
  },
  {
   "cell_type": "markdown",
   "metadata": {},
   "source": [
    "## Exercises\n",
    "\n",
    "1. Modify the program `CoinTosses` to toss a coin n times and print out after every 100 tosses the proportion of heads minus 1/2. Do these numbers appear to approach 0 as n increases? Modify the program again to print out, every 100 times, both of the following quantities: the proportion of heads minus 1/2, and the number of heads minus half the number of tosses. Do these numbers appear to approach 0 as n increases?\n",
    "\n",
    "The proportion appears to be slowly approaching 0 as n increases.\n",
    "\n",
    "The second part looks much the same for the proportion and then the number of heads minus the number of tosses seems to fluctuate but remain relatively small. The number of simulations I have done may not be enough to see the count approach 0 however the relatively small number away from 0 might imply that the frequency is slowly moving towards the expected average of 0.5."
   ]
  },
  {
   "cell_type": "code",
   "execution_count": 25,
   "metadata": {
    "collapsed": true
   },
   "outputs": [
    {
     "name": "stdout",
     "output_type": "stream",
     "text": [
      "Test 1\n",
      "0.0\n",
      "0.03\n",
      "0.03666667\n",
      "0.05\n",
      "0.05\n",
      "0.04\n",
      "0.03857143\n",
      "0.04\n",
      "0.03444444\n",
      "0.036\n",
      "0.03454545\n",
      "0.03333333\n",
      "0.02461538\n",
      "0.02571429\n",
      "0.02466667\n",
      "0.02125\n",
      "0.02176471\n",
      "0.01722222\n",
      "0.01368421\n",
      "0.016\n",
      "0.0147619\n",
      "0.015\n",
      "0.01434783\n",
      "0.01458333\n",
      "0.0128\n",
      "0.01076923\n",
      "0.00962963\n",
      "0.0075\n",
      "0.00931034\n",
      "0.00866667\n",
      "0.01032258\n",
      "0.01125\n",
      "0.01\n",
      "0.01176471\n",
      "0.012\n",
      "0.01083333\n",
      "0.01054054\n",
      "0.00947368\n",
      "0.00846154\n",
      "0.0085\n",
      "0.00902439\n",
      "0.00880952\n",
      "0.00837209\n",
      "0.00795455\n",
      "0.00755556\n",
      "0.00586957\n",
      "0.00404255\n",
      "0.00458333\n",
      "0.00428571\n",
      "0.004\n",
      "0.00333333\n",
      "0.00346154\n",
      "0.00264151\n",
      "0.00388889\n",
      "0.00418182\n",
      "0.00571429\n",
      "0.00649123\n",
      "0.00551724\n",
      "0.00389831\n",
      "0.00466667\n",
      "0.0047541\n",
      "0.00564516\n",
      "0.00555556\n",
      "0.0059375\n",
      "0.006\n",
      "0.00636364\n",
      "0.00686567\n",
      "0.00676471\n",
      "0.00550725\n",
      "0.00528571\n",
      "0.00577465\n",
      "0.00625\n",
      "0.0069863\n",
      "0.00783784\n",
      "0.0072\n",
      "0.00671053\n",
      "0.00714286\n",
      "0.00666667\n",
      "0.00594937\n",
      "0.007125\n",
      "0.00740741\n",
      "0.00682927\n",
      "0.0073494\n",
      "0.00738095\n",
      "0.00776471\n",
      "0.00848837\n",
      "0.00781609\n",
      "0.00806818\n",
      "0.00808989\n",
      "0.00766667\n",
      "0.00725275\n",
      "0.00706522\n",
      "0.0072043\n",
      "0.00702128\n",
      "0.00684211\n",
      "0.0065625\n",
      "0.00649485\n",
      "0.00673469\n",
      "0.00646465\n",
      "0.006\n",
      "\n",
      "Test 2\n",
      "0.0 : 0.0\n",
      "0.03 : 6.0\n",
      "0.03666667 : 11.0\n",
      "0.05 : 20.0\n",
      "0.05 : 25.0\n",
      "0.04 : 24.0\n",
      "0.03857143 : 27.0\n",
      "0.04 : 32.0\n",
      "0.03444444 : 31.0\n",
      "0.036 : 36.0\n",
      "0.03454545 : 38.0\n",
      "0.03333333 : 40.0\n",
      "0.02461538 : 32.0\n",
      "0.02571429 : 36.0\n",
      "0.02466667 : 37.0\n",
      "0.02125 : 34.0\n",
      "0.02176471 : 37.0\n",
      "0.01722222 : 31.0\n",
      "0.01368421 : 26.0\n",
      "0.016 : 32.0\n",
      "0.0147619 : 31.0\n",
      "0.015 : 33.0\n",
      "0.01434783 : 33.0\n",
      "0.01458333 : 35.0\n",
      "0.0128 : 32.0\n",
      "0.01076923 : 28.0\n",
      "0.00962963 : 26.0\n",
      "0.0075 : 21.0\n",
      "0.00931034 : 27.0\n",
      "0.00866667 : 26.0\n",
      "0.01032258 : 32.0\n",
      "0.01125 : 36.0\n",
      "0.01 : 33.0\n",
      "0.01176471 : 40.0\n",
      "0.012 : 42.0\n",
      "0.01083333 : 39.0\n",
      "0.01054054 : 39.0\n",
      "0.00947368 : 36.0\n",
      "0.00846154 : 33.0\n",
      "0.0085 : 34.0\n",
      "0.00902439 : 37.0\n",
      "0.00880952 : 37.0\n",
      "0.00837209 : 36.0\n",
      "0.00795455 : 35.0\n",
      "0.00755556 : 34.0\n",
      "0.00586957 : 27.0\n",
      "0.00404255 : 19.0\n",
      "0.00458333 : 22.0\n",
      "0.00428571 : 21.0\n",
      "0.004 : 20.0\n",
      "0.00333333 : 17.0\n",
      "0.00346154 : 18.0\n",
      "0.00264151 : 14.0\n",
      "0.00388889 : 21.0\n",
      "0.00418182 : 23.0\n",
      "0.00571429 : 32.0\n",
      "0.00649123 : 37.0\n",
      "0.00551724 : 32.0\n",
      "0.00389831 : 23.0\n",
      "0.00466667 : 28.0\n",
      "0.0047541 : 29.0\n",
      "0.00564516 : 35.0\n",
      "0.00555556 : 35.0\n",
      "0.0059375 : 38.0\n",
      "0.006 : 39.0\n",
      "0.00636364 : 42.0\n",
      "0.00686567 : 46.0\n",
      "0.00676471 : 46.0\n",
      "0.00550725 : 38.0\n",
      "0.00528571 : 37.0\n",
      "0.00577465 : 41.0\n",
      "0.00625 : 45.0\n",
      "0.0069863 : 51.0\n",
      "0.00783784 : 58.0\n",
      "0.0072 : 54.0\n",
      "0.00671053 : 51.0\n",
      "0.00714286 : 55.0\n",
      "0.00666667 : 52.0\n",
      "0.00594937 : 47.0\n",
      "0.007125 : 57.0\n",
      "0.00740741 : 60.0\n",
      "0.00682927 : 56.0\n",
      "0.0073494 : 61.0\n",
      "0.00738095 : 62.0\n",
      "0.00776471 : 66.0\n",
      "0.00848837 : 73.0\n",
      "0.00781609 : 68.0\n",
      "0.00806818 : 71.0\n",
      "0.00808989 : 72.0\n",
      "0.00766667 : 69.0\n",
      "0.00725275 : 66.0\n",
      "0.00706522 : 65.0\n",
      "0.0072043 : 67.0\n",
      "0.00702128 : 66.0\n",
      "0.00684211 : 65.0\n",
      "0.0065625 : 63.0\n",
      "0.00649485 : 63.0\n",
      "0.00673469 : 66.0\n",
      "0.00646465 : 64.0\n",
      "0.006 : 60.0\n"
     ]
    }
   ],
   "source": [
    "def CoinTosses(n):\n",
    "    list_rand = RandomNumbers(n)\n",
    "    s_rand = pd.Series(list_rand)\n",
    "    s_out = s_rand.map(lambda x: 'T' if x < 0.5 else 'H')\n",
    "    var_out = ''.join(s_out.values.tolist())\n",
    "    for i in range(1, int(np.ceil(n / 100)) + 1):\n",
    "        list_sub = var_out[0:(i * 100)]\n",
    "        var_heads = len(re.sub('T', '', list_sub))\n",
    "        var_i = (var_heads / len(list_sub)) - 0.5\n",
    "        print(round(var_i, 8))\n",
    "    return var_out\n",
    "print('Test 1')\n",
    "list_test = CoinTosses(10000)\n",
    "\n",
    "def CoinTosses(n):\n",
    "    list_rand = RandomNumbers(n)\n",
    "    s_rand = pd.Series(list_rand)\n",
    "    s_out = s_rand.map(lambda x: 'T' if x < 0.5 else 'H')\n",
    "    var_out = ''.join(s_out.values.tolist())\n",
    "    for i in range(1, int(np.ceil(n / 100)) + 1):\n",
    "        list_sub = list_test[0:(i * 100)]\n",
    "        var_heads = len(re.sub('T', '', list_sub))\n",
    "        var_i = (var_heads / len(list_sub)) - 0.5\n",
    "        var_j = var_heads - (len(list_sub) / 2)\n",
    "        print(round(var_i, 8), ':', var_j)\n",
    "    return var_out\n",
    "print('\\nTest 2')\n",
    "list_test = CoinTosses(10000)"
   ]
  },
  {
   "cell_type": "markdown",
   "metadata": {},
   "source": [
    "2. Modify the program `CoinTosses` so that it tosses a coin n times and records whether or not the proportion of heads is within .1 of .5 (i.e., between .4 and .6). Have your program repeat this experiment 100 times. About how large must n be so that approximately 95 out of 100 times the proportion of heads is between .4 and .6?\n",
    "\n",
    "I would say n=90 is our sweet spot based on the below histograms. The histograms seem to shift over to be more consistently centered on the 0.95 and above proportion value at this value of n. "
   ]
  },
  {
   "cell_type": "code",
   "execution_count": 32,
   "metadata": {},
   "outputs": [],
   "source": [
    "def CoinTosses(n):\n",
    "    s_rand = pd.Series(RandomNumbers(n))\n",
    "    s_out = s_rand.map(lambda x: 'T' if x < 0.5 else 'H')\n",
    "    var_prop = len(''.join(s_out.loc[s_out == 'H'].values.tolist())) / s_out.shape[0]\n",
    "    return (var_prop >= 0.4) & (var_prop <= 0.6)"
   ]
  },
  {
   "cell_type": "code",
   "execution_count": 107,
   "metadata": {
    "scrolled": false
   },
   "outputs": [
    {
     "name": "stdout",
     "output_type": "stream",
     "text": [
      "Wall time: 1min 55s\n"
     ]
    },
    {
     "data": {
      "image/png": "[encoded data removed]",
      "text/plain": [
       "<Figure size 720x360 with 1 Axes>"
      ]
     },
     "metadata": {},
     "output_type": "display_data"
    },
    {
     "data": {
      "image/png": "[encoded data removed]",
      "text/plain": [
       "<Figure size 720x360 with 1 Axes>"
      ]
     },
     "metadata": {},
     "output_type": "display_data"
    },
    {
     "data": {
      "image/png": "[encoded data removed]",
      "text/plain": [
       "<Figure size 720x360 with 1 Axes>"
      ]
     },
     "metadata": {},
     "output_type": "display_data"
    },
    {
     "data": {
      "image/png": "[encoded data removed]",
      "text/plain": [
       "<Figure size 720x360 with 1 Axes>"
      ]
     },
     "metadata": {},
     "output_type": "display_data"
    },
    {
     "data": {
      "image/png": "[encoded data removed]",
      "text/plain": [
       "<Figure size 720x360 with 1 Axes>"
      ]
     },
     "metadata": {},
     "output_type": "display_data"
    },
    {
     "data": {
      "image/png": "[encoded data removed]",
      "text/plain": [
       "<Figure size 720x360 with 1 Axes>"
      ]
     },
     "metadata": {},
     "output_type": "display_data"
    },
    {
     "data": {
      "image/png": "[encoded data removed]",
      "text/plain": [
       "<Figure size 720x360 with 1 Axes>"
      ]
     },
     "metadata": {},
     "output_type": "display_data"
    },
    {
     "data": {
      "image/png": "[encoded data removed]",
      "text/plain": [
       "<Figure size 720x360 with 1 Axes>"
      ]
     },
     "metadata": {},
     "output_type": "display_data"
    },
    {
     "data": {
      "image/png": "[encoded data removed]",
      "text/plain": [
       "<Figure size 720x360 with 1 Axes>"
      ]
     },
     "metadata": {},
     "output_type": "display_data"
    },
    {
     "data": {
      "image/png": "[encoded data removed]",
      "text/plain": [
       "<Figure size 720x360 with 1 Axes>"
      ]
     },
     "metadata": {},
     "output_type": "display_data"
    }
   ],
   "source": [
    "%%time\n",
    "# This takes a while to run\n",
    "for count in range(80, 100, 2):\n",
    "    plt.figure(figsize=(10, 5))\n",
    "    \n",
    "    list_outcomes = [\n",
    "        # For n (count) tosses take the mean of how many fit our criteria\n",
    "        np.mean([CoinTosses(count) for x in range(0, 100)]) \n",
    "        # Repeat this 250 times so that we get a good idea that the \n",
    "        # average is a good approximation\n",
    "        for y in range(0, 250)\n",
    "    ]\n",
    "    plt.hist(list_outcomes, bins=100)\n",
    "    plt.xlim(0.8, 1)\n",
    "    plt.title('n = {}'.format(count))"
   ]
  },
  {
   "cell_type": "markdown",
   "metadata": {},
   "source": [
    "3. In the early 1600s, Galileo was asked to explain the fact that, although the number of triples of integers from 1 to 6 with sum 9 is the same as the number of such triples with sum 10, when three dice are rolled, a 9 seemed to come up less often than a 10—supposedly in the experience of gamblers.\n",
    "\n",
    " + Write a program to simulate the roll of three dice a large number of times and keep track of the proportion of times that the sum is 9 and the proportion of times it is 10. \n",
    " + Can you conclude from your simulations that the gamblers were correct?\n",
    "\n",
    "I would side with the gamblers in this instance. In an example of 1,000,000 rolls there are 116,007 totals of 9 and 125,397 totals of 10 which is definitely more for the sum to 10."
   ]
  },
  {
   "cell_type": "code",
   "execution_count": 110,
   "metadata": {},
   "outputs": [],
   "source": [
    "def func_sum_proportions(n):\n",
    "    list_rand_1 = [random.choice([1, 2, 3, 4, 5, 6]) for x in range(0, n)]\n",
    "    list_rand_2 = [random.choice([1, 2, 3, 4, 5, 6]) for x in range(0, n)]\n",
    "    list_rand_3 = [random.choice([1, 2, 3, 4, 5, 6]) for x in range(0, n)]\n",
    "    s_rand_1 = pd.Series(list_rand_1)\n",
    "    s_rand_2 = pd.Series(list_rand_2)\n",
    "    s_rand_3 = pd.Series(list_rand_3)\n",
    "    df_out = pd.concat([s_rand_1, s_rand_2, s_rand_3], axis=1)\n",
    "    df_out['total'] = df_out.sum(axis=1)\n",
    "    var_sum_9 = df_out.loc[df_out['total'] == 9].shape[0]\n",
    "    var_sum_10 = df_out.loc[df_out['total'] == 10].shape[0]\n",
    "    return (df_out, var_sum_9, var_sum_10)"
   ]
  },
  {
   "cell_type": "code",
   "execution_count": 117,
   "metadata": {},
   "outputs": [
    {
     "name": "stdout",
     "output_type": "stream",
     "text": [
      "Sum to 9: 119 \n",
      "Sum to 10: 106\n",
      "\n",
      "Sum to 9: 1162 \n",
      "Sum to 10: 1249\n",
      "\n",
      "Sum to 9: 11684 \n",
      "Sum to 10: 12397\n",
      "\n",
      "Sum to 9: 116007 \n",
      "Sum to 10: 125397"
     ]
    }
   ],
   "source": [
    "tuple_test = func_sum_proportions(1000)\n",
    "print('Sum to 9:', tuple_test[1], '\\nSum to 10:', tuple_test[2], end='\\n\\n')\n",
    "tuple_test = func_sum_proportions(10000)\n",
    "print('Sum to 9:', tuple_test[1], '\\nSum to 10:', tuple_test[2], end='\\n\\n')\n",
    "tuple_test = func_sum_proportions(100000)\n",
    "print('Sum to 9:', tuple_test[1], '\\nSum to 10:', tuple_test[2], end='\\n\\n')\n",
    "tuple_test = func_sum_proportions(1000000)\n",
    "print('Sum to 9:', tuple_test[1], '\\nSum to 10:', tuple_test[2], end='')"
   ]
  },
  {
   "cell_type": "markdown",
   "metadata": {},
   "source": [
    "4. In raquetball, a player continues to serve as long as she is winning; a point is scored only when a player is serving and wins the volley. The ﬁrst player to win 21 points wins the game. Assume that you serve ﬁrst and have a probability .6 of winning a volley when you serve and probability .5 when your opponent serves. Estimate, by simulation, the probability that you will win a game."
   ]
  },
  {
   "cell_type": "markdown",
   "metadata": {},
   "source": [
    "---\n",
    "**GigiSR**"
   ]
  }
 ],
 "metadata": {
  "kernelspec": {
   "display_name": "Python 3",
   "language": "python",
   "name": "python3"
  },
  "language_info": {
   "codemirror_mode": {
    "name": "ipython",
    "version": 3
   },
   "file_extension": ".py",
   "mimetype": "text/x-python",
   "name": "python",
   "nbconvert_exporter": "python",
   "pygments_lexer": "ipython3",
   "version": "3.6.5"
  }
 },
 "nbformat": 4,
 "nbformat_minor": 2
}
