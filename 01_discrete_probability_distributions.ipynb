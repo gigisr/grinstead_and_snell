{
 "cells": [
  {
   "cell_type": "markdown",
   "metadata": {},
   "source": [
    "# Grinstead and Snell's Introduction to Probability\n",
    "\n",
    "## Python setup"
   ]
  },
  {
   "cell_type": "code",
   "execution_count": 70,
   "metadata": {},
   "outputs": [],
   "source": [
    "import IPython.core.display as ICD\n",
    "import random\n",
    "import re\n",
    "\n",
    "import pandas as pd\n",
    "import numpy as np\n",
    "import matplotlib.pyplot as plt\n",
    "\n",
    "pd.set_option('display.max_rows', 12)\n",
    "pd.set_option('display.max_columns', None)\n",
    "\n",
    "%matplotlib inline"
   ]
  },
  {
   "cell_type": "markdown",
   "metadata": {},
   "source": [
    "## Chapter 1 - Discrete probability distributions\n",
    "\n",
    "### 1.1 Simulation of discrete probabilities\n",
    "\n",
    "#### Example 1.1 (Random Number Generation)\n",
    "\n",
    "The program `RandomNumbers` generates n random real numbers in the interval [0,1], where n is chosen by the user. When we ran the program with n = 20, we obtained the data shown below."
   ]
  },
  {
   "cell_type": "code",
   "execution_count": 2,
   "metadata": {},
   "outputs": [],
   "source": [
    "def RandomNumbers(n):\n",
    "    if (not str(n).isdigit()) | (n < 0):\n",
    "        raise ValueError('The n argument passed is not valid.')\n",
    "    return [random.random() for x in range(0, n)]"
   ]
  },
  {
   "cell_type": "code",
   "execution_count": 3,
   "metadata": {},
   "outputs": [
    {
     "data": {
      "text/plain": [
       "[0.07106036712693575,\n",
       " 0.883515055709061,\n",
       " 0.10342666334685602,\n",
       " 0.022719801637024806,\n",
       " 0.9878861451676473,\n",
       " 0.4955343307949305,\n",
       " 0.07526136827602281,\n",
       " 0.6596982639773776,\n",
       " 0.01705315952054509,\n",
       " 0.13946800013776395,\n",
       " 0.809561070688687,\n",
       " 0.777723900993478,\n",
       " 0.1946466123504219,\n",
       " 0.39075128684343685,\n",
       " 0.29702357677052527,\n",
       " 0.7544411465491708,\n",
       " 0.09090822547124555,\n",
       " 0.868843323108251,\n",
       " 0.21001652378707225,\n",
       " 0.428343855945584]"
      ]
     },
     "execution_count": 3,
     "metadata": {},
     "output_type": "execute_result"
    }
   ],
   "source": [
    "RandomNumbers(20)"
   ]
  },
  {
   "cell_type": "markdown",
   "metadata": {},
   "source": [
    "#### Example 1.2 (Coin Tossing) \n",
    "\n",
    "As we have noted, our intuition suggests that the probability of obtaining a head on a single toss of a coin is 1/2. To have the computer toss a coin, we can ask it to pick a random real number in the interval [0,1] and test to see if this number is less than 1/2. If so, we shall call the outcome heads; if not we call it tails. Another way to proceed would be to ask the computer to pick a random integer from the set {0,1}. The program `CoinTosses` carries out the experiment of tossing a coin n times. Running this program, with n = 20, resulted in:\n",
    "\n",
    "THTTTHTTTTHTTTTTHHTT\n",
    "\n",
    "Note that in 20 tosses, we obtained 5 heads and 15 tails. Let us toss a coin n times, where n is much larger than 20, and see if we obtain a proportion of heads closer to our intuitive guess of 1/2. The program `CoinTosses` keeps track of the number of heads. When we ran this program with n = 1000, we obtained 494 heads. When we ran it with n = 10000, we obtained 5039 heads.\n",
    "\n",
    "We notice that when we tossed the coin 10,000 times, the proportion of heads was close to the “true value” .5 for obtaining a head when a coin is tossed. A mathematical model for this experiment is called Bernoulli Trials (see Chapter 3). The Law of Large Numbers, which we shall study later (see Chapter 8), will show that in the Bernoulli Trials model, the proportion of heads should be near .5, consistent with our intuitive idea of the frequency interpretation of probability. Of course, our program could be easily modiﬁed to simulate coins for which the probability of a head is p, where p is a real number between 0 and 1. "
   ]
  },
  {
   "cell_type": "code",
   "execution_count": 4,
   "metadata": {},
   "outputs": [],
   "source": [
    "def CoinTosses(n):\n",
    "    s_rand = pd.Series(RandomNumbers(n))\n",
    "    s_out = s_rand.map(lambda x: 'T' if x < 0.5 else 'H')\n",
    "    return ''.join(s_out.values.tolist())"
   ]
  },
  {
   "cell_type": "code",
   "execution_count": 5,
   "metadata": {},
   "outputs": [
    {
     "name": "stdout",
     "output_type": "stream",
     "text": [
      "TTTTHTTTHTTTTHTTHTTH\n",
      "The number of heads: 5\n",
      "The number of tails: 15\n",
      "The final proportion, count(H) / count(runs): 0.75\n",
      "\n",
      "TTTHHTHTHHTHTTHHHTHHTHTHTTTTTTTHTHTHHTTTTHTTHTHTHTHHHHTHTTHTTTHHTHTTTTHTHHTHTHTHHHHHHTTTTTHHHTTTHHHH\n",
      "The number of heads: 48\n",
      "The number of tails: 52\n",
      "The final proportion, count(H) / count(runs): 0.52\n",
      "\n",
      "HTHHHHHTHHHTHHTHHTHHHTHHHHTHTHTHHTHHHHHHHHHTHTTHTH...\n",
      "The number of heads: 2539\n",
      "The number of tails: 2461\n",
      "The final proportion, count(H) / count(runs): 0.4922\n"
     ]
    }
   ],
   "source": [
    "var_test = CoinTosses(20)\n",
    "print(var_test)\n",
    "print('The number of heads:', len(var_test.replace('T', '')))\n",
    "print('The number of tails:', len(var_test.replace('H', '')))\n",
    "print('The final proportion, count(H) / count(runs):', len(var_test.replace('H', '')) / len(var_test))\n",
    "print()\n",
    "var_test = CoinTosses(100)\n",
    "print(var_test)\n",
    "print('The number of heads:', len(var_test.replace('T', '')))\n",
    "print('The number of tails:', len(var_test.replace('H', '')))\n",
    "print('The final proportion, count(H) / count(runs):', len(var_test.replace('H', '')) / len(var_test))\n",
    "print()\n",
    "var_test = CoinTosses(5000)\n",
    "print(var_test[0:50], '...', sep='')\n",
    "print('The number of heads:', len(var_test.replace('T', '')))\n",
    "print('The number of tails:', len(var_test.replace('H', '')))\n",
    "print('The final proportion, count(H) / count(runs):', len(var_test.replace('H', '')) / len(var_test))"
   ]
  },
  {
   "cell_type": "markdown",
   "metadata": {},
   "source": [
    "#### Example 1.3 (Dice Rolling)\n",
    "\n",
    "We consider a dice game that played an important role in the historical development of probability. The famous letters between Pascal and Fermat, which many believe started a serious study of probability, were instigated by a request for help from a French nobleman and gambler, Chevalier de M´ er´ e. It is said that de M´ er´ e had been betting that, in four rolls of a die, at least one six would turn up. He was winning consistently and, to get more people to play, he changed the game to bet that, in 24 rolls of two dice, a pair of sixes would turn up. It is claimed that de M´ er´ e lost with 24 and felt that 25 rolls were necessary to make the game favorable. It was un grand scandale that mathematics was wrong. \n",
    "\n",
    "We shall try to see if de M´ er´ e is correct by simulating his various bets. The program `DeMere1` simulates a large number of experiments, seeing, in each one, if a six turns up in four rolls of a die. When we ran this program for 1000 plays, a six came up in the ﬁrst four rolls 48.6 percent of the time. When we ran it for 10,000 plays this happened 51.98 percent of the time. We note that the result of the second run suggests that de M´ er´ e was correct in believing that his bet with one die was favorable; however, if we had based our conclusion on the ﬁrst run, we would have decided that he was wrong. Accurate results by simulation require a large number of experiments. "
   ]
  },
  {
   "cell_type": "code",
   "execution_count": 6,
   "metadata": {},
   "outputs": [],
   "source": [
    "def DeMere1(n, roll_count):\n",
    "    list_rand = [[random.choice([1, 2, 3, 4, 5, 6]) for y in range(0, roll_count)] for x in range(0, n)]\n",
    "    s_rand = pd.Series(list_rand)\n",
    "    s_outcome = s_rand.map(lambda x: 6 in x)\n",
    "    df_out = pd.concat([s_rand, s_outcome], axis=1)\n",
    "    return df_out"
   ]
  },
  {
   "cell_type": "code",
   "execution_count": 7,
   "metadata": {},
   "outputs": [
    {
     "data": {
      "text/plain": [
       "True     0.531\n",
       "False    0.469\n",
       "Name: 1, dtype: float64"
      ]
     },
     "metadata": {},
     "output_type": "display_data"
    },
    {
     "data": {
      "text/plain": [
       "True     0.518\n",
       "False    0.482\n",
       "Name: 1, dtype: float64"
      ]
     },
     "metadata": {},
     "output_type": "display_data"
    },
    {
     "data": {
      "text/plain": [
       "True     0.51872\n",
       "False    0.48128\n",
       "Name: 1, dtype: float64"
      ]
     },
     "metadata": {},
     "output_type": "display_data"
    },
    {
     "data": {
      "text/plain": [
       "True     0.518615\n",
       "False    0.481385\n",
       "Name: 1, dtype: float64"
      ]
     },
     "metadata": {},
     "output_type": "display_data"
    }
   ],
   "source": [
    "df_test = DeMere1(1000, 4)\n",
    "ICD.display(df_test[1].value_counts() / df_test.shape[0])\n",
    "\n",
    "df_test = DeMere1(10000, 4)\n",
    "ICD.display(df_test[1].value_counts() / df_test.shape[0])\n",
    "\n",
    "df_test = DeMere1(100000, 4)\n",
    "ICD.display(df_test[1].value_counts() / df_test.shape[0])\n",
    "\n",
    "df_test = DeMere1(1000000, 4)\n",
    "ICD.display(df_test[1].value_counts() / df_test.shape[0])"
   ]
  },
  {
   "cell_type": "markdown",
   "metadata": {},
   "source": [
    "The program `DeMere2` simulates de M´ er´e’s second bet that a pair of sixes will occur in n rolls of a pair of dice."
   ]
  },
  {
   "cell_type": "code",
   "execution_count": 8,
   "metadata": {},
   "outputs": [],
   "source": [
    "def DeMere2(n, roll_count):\n",
    "    list_rand = [[\n",
    "        [random.choice([1, 2, 3, 4, 5, 6]), random.choice([1, 2, 3, 4, 5, 6])] \n",
    "        for y in range(0, roll_count)] for x in range(0, n)\n",
    "    ]\n",
    "    s_rand = pd.Series(list_rand)\n",
    "    s_outcome = s_rand.map(lambda x: [6, 6] in x)\n",
    "    df_out = pd.concat([s_rand, s_outcome], axis=1)\n",
    "    return df_out"
   ]
  },
  {
   "cell_type": "code",
   "execution_count": 9,
   "metadata": {},
   "outputs": [
    {
     "data": {
      "text/plain": [
       "False    0.5032\n",
       "True     0.4968\n",
       "Name: 1, dtype: float64"
      ]
     },
     "metadata": {},
     "output_type": "display_data"
    },
    {
     "data": {
      "text/plain": [
       "False    0.50982\n",
       "True     0.49018\n",
       "Name: 1, dtype: float64"
      ]
     },
     "metadata": {},
     "output_type": "display_data"
    },
    {
     "data": {
      "text/plain": [
       "True     0.5076\n",
       "False    0.4924\n",
       "Name: 1, dtype: float64"
      ]
     },
     "metadata": {},
     "output_type": "display_data"
    },
    {
     "data": {
      "text/plain": [
       "True     0.50499\n",
       "False    0.49501\n",
       "Name: 1, dtype: float64"
      ]
     },
     "metadata": {},
     "output_type": "display_data"
    }
   ],
   "source": [
    "df_test = DeMere2(10000, 24)\n",
    "ICD.display(df_test[1].value_counts() / df_test.shape[0])\n",
    "\n",
    "df_test = DeMere2(100000, 24)\n",
    "ICD.display(df_test[1].value_counts() / df_test.shape[0])\n",
    "\n",
    "df_test = DeMere2(10000, 25)\n",
    "ICD.display(df_test[1].value_counts() / df_test.shape[0])\n",
    "\n",
    "df_test = DeMere2(100000, 25)\n",
    "ICD.display(df_test[1].value_counts() / df_test.shape[0])"
   ]
  },
  {
   "cell_type": "markdown",
   "metadata": {},
   "source": [
    "#### Example 1.4 (Heads or Tails) \n",
    "\n",
    "For our next example, we consider a problem where the exact answer is diﬃcult to obtain but for which simulation easily gives the qualitative results. Peter and Paul play a game called heads or tails. In this game, a fair coin is tossed a sequence of times—we choose 40. Each time a head comes up Peter wins 1 penny from Paul, and each time a tail comes up Peter loses 1 penny to Paul. For example, if the results of the 40 tosses are\n",
    "\n",
    "THTHHHHTTHTHHTTHHTTTTHHHTHHTHHHTHHHTTTHH.\n",
    "\n",
    "It is natural to ask for the probability that he will win j pennies; here j could be any even number from −40 to 40. It is reasonable to guess that the value of j with the highest probability is j = 0, since this occurs when the number of heads equals the number of tails. Similarly, we would guess that the values of j with the lowest probabilities are j = ±40."
   ]
  },
  {
   "cell_type": "code",
   "execution_count": 10,
   "metadata": {},
   "outputs": [],
   "source": [
    "def HeadsOrTails(n):\n",
    "    list_rand = [random.choice(['T', 'H']) for x in range(0, n)]\n",
    "    s_rand = pd.Series(list_rand)\n",
    "    s_amt = s_rand.map({'H': 1, 'T': -1})\n",
    "    s_cumsum = s_amt.cumsum()\n",
    "    s_in_lead = s_cumsum > 0\n",
    "    s_in_lead = s_in_lead | ((s_cumsum == 0) & s_in_lead.shift())\n",
    "    df_out = pd.concat([s_rand, s_amt, s_cumsum, s_in_lead], axis=1)\n",
    "    return df_out"
   ]
  },
  {
   "cell_type": "code",
   "execution_count": 11,
   "metadata": {},
   "outputs": [],
   "source": [
    "def HTSimulation(n, run_length=40):\n",
    "    list_sims = [HeadsOrTails(run_length) for x in range(0, int(n))]\n",
    "    return list_sims"
   ]
  },
  {
   "cell_type": "code",
   "execution_count": 12,
   "metadata": {},
   "outputs": [
    {
     "name": "stdout",
     "output_type": "stream",
     "text": [
      "Wall time: 53.6 s\n"
     ]
    }
   ],
   "source": [
    "%%time\n",
    "list_test = HTSimulation(10e3, 40)"
   ]
  },
  {
   "cell_type": "code",
   "execution_count": 13,
   "metadata": {},
   "outputs": [
    {
     "data": {
      "text/plain": [
       "<matplotlib.axes._subplots.AxesSubplot at 0x27f6bec1eb8>"
      ]
     },
     "execution_count": 13,
     "metadata": {},
     "output_type": "execute_result"
    },
    {
     "data": {
      "image/png": "[encoded data removed]",
      "text/plain": [
       "<Figure size 432x288 with 1 Axes>"
      ]
     },
     "metadata": {},
     "output_type": "display_data"
    }
   ],
   "source": [
    "list_outcomes = [x[1].sum() for x in list_test]\n",
    "pd.Series(list_outcomes).hist(bins=len(set(list_outcomes)))"
   ]
  },
  {
   "cell_type": "markdown",
   "metadata": {},
   "source": [
    "A second interesting question about this game is the following: How many times in the 40 tosses will Peter be in the lead? Looking at the graph of his winnings (above), we see that Peter is in the lead when his winnings are positive, but we have to make some convention when his winnings are 0 if we want all tosses to contribute to the number of times in the lead. We adopt the convention that, when Peter’s winnings are 0, he is in the lead if he was ahead at the previous toss and not if he was behind at the previous toss. With this convention, Peter is in the lead 34 times in our example. Again, our intuition might suggest that the most likely number of times to be in the lead is 1/2 of 40, or 20, and the least likely numbers are the extreme cases of 40 or 0. \n",
    "\n",
    "It is easy to settle this by simulating the game a large number of times and keeping track of the number of times that Peter’s ﬁnal winnings are j, and the number of times that Peter ends up being in the lead by k. The proportions over all games then give estimates for the corresponding probabilities. The program `HTSimulation` carries out this simulation. Note that when there are an even number of tosses in the game, it is possible to be in the lead only an even number of times. We have simulated this game 10,000 times. \n",
    "\n",
    "These graphs, which we call spike graphs, were generated using the program `Spikegraph`. The vertical line, or spike, at position x on the horizontal axis, has a height equal to the proportion of outcomes which equal x. Our intuition about Peter’s ﬁnal winnings was quite correct, but our intuition about the number of times Peter was in the lead was completely wrong. The simulation suggests that the least likely number of times in the lead is 20 and the most likely is 0 or 40. This is indeed correct, and the explanation for it is suggested by playing the game of heads or tails with a large number of tosses and looking at a graph of Peter’s winnings."
   ]
  },
  {
   "cell_type": "code",
   "execution_count": 14,
   "metadata": {},
   "outputs": [],
   "source": [
    "def Spikegraph(values):\n",
    "    plt.figure()\n",
    "    values.plot()\n",
    "    plt.hlines(y=0, xmin=0, xmax=len(values))"
   ]
  },
  {
   "cell_type": "code",
   "execution_count": 15,
   "metadata": {},
   "outputs": [
    {
     "data": {
      "image/png": "[encoded data removed]",
      "text/plain": [
       "<Figure size 432x288 with 1 Axes>"
      ]
     },
     "metadata": {},
     "output_type": "display_data"
    },
    {
     "data": {
      "image/png": "[encoded data removed]",
      "text/plain": [
       "<Figure size 432x288 with 1 Axes>"
      ]
     },
     "metadata": {},
     "output_type": "display_data"
    },
    {
     "data": {
      "image/png": "[encoded data removed]",
      "text/plain": [
       "<Figure size 432x288 with 1 Axes>"
      ]
     },
     "metadata": {},
     "output_type": "display_data"
    }
   ],
   "source": [
    "Spikegraph(list_test[0][2])\n",
    "Spikegraph(list_test[1][2])\n",
    "Spikegraph(list_test[2][2])"
   ]
  },
  {
   "cell_type": "markdown",
   "metadata": {},
   "source": [
    "#### Example 1.5 (Horse Races) \n",
    "\n",
    "Four horses (Acorn, Balky, Chestnut, and Dolby) have raced many times. It is estimated that Acorn wins 30 percent of the time, Balky 40 percent of the time, Chestnut 20 percent of the time, and Dolby 10 percent of the time. \n",
    "\n",
    "We can have our computer carry out one race as follows: Choose a random number x. If x < .3 then we say that Acorn won. If .3 ≤ x < .7 then Balky wins. If .7 ≤x < .9 then Chestnut wins. Finally, if .9 ≤ x then Dolby wins. \n",
    "\n",
    "The program `HorseRace` uses this method to simulate the outcomes of n races. Running this program for n = 10 we found that Acorn won 40 percent of the time, Balky 20 percent of the time, Chestnut 10 percent of the time, and Dolby 30 percent of the time. A larger number of races would be necessary to have better agreement with the past experience. Therefore we ran the program to simulate 1000 races with our four horses. Although very tired after all these races, they performed in a manner quite consistent with our estimates of their abilities. Acorn won 29.8 percent of the time, Balky 39.4 percent, Chestnut 19.5 percent, and Dolby 11.3 percent of the time. "
   ]
  },
  {
   "cell_type": "code",
   "execution_count": 24,
   "metadata": {},
   "outputs": [],
   "source": [
    "def HorseRace(n):\n",
    "    list_rand = RandomNumbers(n)\n",
    "    s_rand = pd.Series(list_rand)\n",
    "    s_horses = pd.cut(s_rand, [0, 0.3, 0.7, 0.9, 1.1], labels=['Acron', 'Balky', 'Chestnut', 'Dolby'])\n",
    "    df_out = pd.concat([s_rand, s_horses], axis=1)\n",
    "    return df_out"
   ]
  },
  {
   "cell_type": "code",
   "execution_count": 34,
   "metadata": {},
   "outputs": [
    {
     "data": {
      "text/plain": [
       "Acron       0.286\n",
       "Balky       0.408\n",
       "Chestnut    0.210\n",
       "Dolby       0.096\n",
       "Name: 1, dtype: float64"
      ]
     },
     "metadata": {},
     "output_type": "display_data"
    },
    {
     "data": {
      "text/plain": [
       "Acron       0.3059\n",
       "Balky       0.3906\n",
       "Chestnut    0.2003\n",
       "Dolby       0.1032\n",
       "Name: 1, dtype: float64"
      ]
     },
     "metadata": {},
     "output_type": "display_data"
    },
    {
     "data": {
      "text/plain": [
       "Acron       0.30069\n",
       "Balky       0.39866\n",
       "Chestnut    0.19975\n",
       "Dolby       0.10090\n",
       "Name: 1, dtype: float64"
      ]
     },
     "metadata": {},
     "output_type": "display_data"
    }
   ],
   "source": [
    "df_test = HorseRace(1000)\n",
    "ICD.display(df_test[1].value_counts().sort_index() / df_test.shape[0])\n",
    "\n",
    "df_test = HorseRace(10000)\n",
    "ICD.display(df_test[1].value_counts().sort_index() / df_test.shape[0])\n",
    "\n",
    "df_test = HorseRace(100000)\n",
    "ICD.display(df_test[1].value_counts().sort_index() / df_test.shape[0])"
   ]
  },
  {
   "cell_type": "markdown",
   "metadata": {},
   "source": [
    "The program `GeneralSimulation` uses this method to simulate repetitions of an arbitrary experiment with a ﬁnite number of outcomes occurring with known probabilities. "
   ]
  },
  {
   "cell_type": "code",
   "execution_count": 52,
   "metadata": {},
   "outputs": [],
   "source": [
    "def GeneralSimulation(n, list_odds, list_labels):\n",
    "    list_rand = RandomNumbers(n)\n",
    "    s_rand = pd.Series(list_rand)\n",
    "    list_odds_use = [0] + [x for x in pd.Series(list_odds).cumsum().values]\n",
    "    list_odds_use[len(list_odds_use) - 1] = 1.1\n",
    "    s_outcomes = pd.cut(s_rand, list_odds_use, labels=list_labels)\n",
    "    df_out = pd.concat([s_rand, s_outcomes], axis=1)\n",
    "    return df_out"
   ]
  },
  {
   "cell_type": "code",
   "execution_count": 55,
   "metadata": {},
   "outputs": [
    {
     "data": {
      "text/plain": [
       "Acorn       0.346\n",
       "Balky       0.367\n",
       "Chestnut    0.193\n",
       "Dolby       0.094\n",
       "Name: 1, dtype: float64"
      ]
     },
     "metadata": {},
     "output_type": "display_data"
    },
    {
     "data": {
      "text/plain": [
       "Acorn       0.3002\n",
       "Balky       0.4005\n",
       "Chestnut    0.1985\n",
       "Dolby       0.1008\n",
       "Name: 1, dtype: float64"
      ]
     },
     "metadata": {},
     "output_type": "display_data"
    },
    {
     "data": {
      "text/plain": [
       "Acorn       0.29779\n",
       "Balky       0.40022\n",
       "Chestnut    0.20113\n",
       "Dolby       0.10086\n",
       "Name: 1, dtype: float64"
      ]
     },
     "metadata": {},
     "output_type": "display_data"
    }
   ],
   "source": [
    "df_test = GeneralSimulation(1000, [0.3, 0.4, 0.2, 0.1], ['Acorn', 'Balky', 'Chestnut', 'Dolby'])\n",
    "ICD.display(df_test[1].value_counts().sort_index() / df_test.shape[0])\n",
    "\n",
    "df_test = GeneralSimulation(10000, [0.3, 0.4, 0.2, 0.1], ['Acorn', 'Balky', 'Chestnut', 'Dolby'])\n",
    "ICD.display(df_test[1].value_counts().sort_index() / df_test.shape[0])\n",
    "\n",
    "df_test = GeneralSimulation(100000, [0.3, 0.4, 0.2, 0.1], ['Acorn', 'Balky', 'Chestnut', 'Dolby'])\n",
    "ICD.display(df_test[1].value_counts().sort_index() / df_test.shape[0])"
   ]
  },
  {
   "cell_type": "markdown",
   "metadata": {},
   "source": [
    "## Exercises\n",
    "\n",
    "1. Modify the program `CoinTosses` to toss a coin n times and print out after every 100 tosses the proportion of heads minus 1/2. Do these numbers appear to approach 0 as n increases? Modify the program again to print out, every 100 times, both of the following quantities: the proportion of heads minus 1/2, and the number of heads minus half the number of tosses. Do these numbers appear to approach 0 as n increases?\n",
    "\n",
    "The proportion appears to be slowly approaching 0 as n increases.\n",
    "\n",
    "The second part looks much the same for the proportion and then the number of heads minus the number of tosses seems to fluctuate but remain relatively small. The number of simulations I have done may not be enough to see the count approach 0 however the relatively small number away from 0 might imply that the frequency is slowly moving towards the expected average of 0.5."
   ]
  },
  {
   "cell_type": "code",
   "execution_count": 110,
   "metadata": {
    "collapsed": true
   },
   "outputs": [
    {
     "name": "stdout",
     "output_type": "stream",
     "text": [
      "Test 1\n",
      "0.04\n",
      "0.005\n",
      "-0.02\n",
      "-0.0175\n",
      "-0.042\n",
      "-0.03833333\n",
      "-0.03714286\n",
      "-0.02625\n",
      "-0.01333333\n",
      "-0.007\n",
      "-0.01\n",
      "-0.01083333\n",
      "-0.00923077\n",
      "-0.00857143\n",
      "-0.012\n",
      "-0.01125\n",
      "-0.00764706\n",
      "-0.005\n",
      "0.00052632\n",
      "-0.0015\n",
      "-0.00190476\n",
      "-0.00272727\n",
      "-0.0026087\n",
      "0.00083333\n",
      "-0.002\n",
      "-0.00192308\n",
      "-0.00037037\n",
      "-0.00107143\n",
      "-0.00068966\n",
      "-0.002\n",
      "0.0\n",
      "-0.0003125\n",
      "0.00151515\n",
      "0.00117647\n",
      "0.00057143\n",
      "0.00166667\n",
      "0.00135135\n",
      "0.00052632\n",
      "0.00205128\n",
      "0.002\n",
      "0.00317073\n",
      "0.00428571\n",
      "0.00418605\n",
      "0.00386364\n",
      "0.00466667\n",
      "0.00304348\n",
      "0.00170213\n",
      "0.001875\n",
      "0.00306122\n",
      "0.0034\n",
      "0.00392157\n",
      "0.00480769\n",
      "0.00396226\n",
      "0.00574074\n",
      "0.006\n",
      "0.00607143\n",
      "0.00561404\n",
      "0.0062069\n",
      "0.00474576\n",
      "0.00383333\n",
      "0.00311475\n",
      "0.00435484\n",
      "0.00285714\n",
      "0.00171875\n",
      "0.00123077\n",
      "0.00106061\n",
      "0.00089552\n",
      "0.00117647\n",
      "0.00130435\n",
      "0.00114286\n",
      "0.00197183\n",
      "0.00083333\n",
      "0.0\n",
      "-0.00067568\n",
      "-0.00053333\n",
      "-0.00118421\n",
      "-0.00168831\n",
      "-0.00230769\n",
      "-0.00303797\n",
      "-0.002875\n",
      "-0.00345679\n",
      "-0.00329268\n",
      "-0.00313253\n",
      "-0.00357143\n",
      "-0.00388235\n",
      "-0.00383721\n",
      "-0.0037931\n",
      "-0.00409091\n",
      "-0.00370787\n",
      "-0.00433333\n",
      "-0.0043956\n",
      "-0.00467391\n",
      "-0.00430108\n",
      "-0.00478723\n",
      "-0.00442105\n",
      "-0.00479167\n",
      "-0.00391753\n",
      "-0.00346939\n",
      "-0.00343434\n",
      "-0.0032\n",
      "\n",
      "Test 2\n",
      "-0.09 : -9.0\n",
      "-0.05 : -10.0\n",
      "-0.05 : -15.0\n",
      "-0.05 : -20.0\n",
      "-0.046 : -23.0\n",
      "-0.03833333 : -23.0\n",
      "-0.04 : -28.0\n",
      "-0.02875 : -23.0\n",
      "-0.03 : -27.0\n",
      "-0.025 : -25.0\n",
      "-0.01090909 : -12.0\n",
      "-0.00416667 : -5.0\n",
      "-0.00384615 : -5.0\n",
      "-0.00571429 : -8.0\n",
      "-0.00666667 : -10.0\n",
      "-0.00875 : -14.0\n",
      "-0.00941176 : -16.0\n",
      "-0.01111111 : -20.0\n",
      "-0.00842105 : -16.0\n",
      "-0.011 : -22.0\n",
      "-0.00809524 : -17.0\n",
      "-0.00590909 : -13.0\n",
      "-0.00478261 : -11.0\n",
      "-0.005 : -12.0\n",
      "-0.006 : -15.0\n",
      "-0.00653846 : -17.0\n",
      "-0.00777778 : -21.0\n",
      "-0.005 : -14.0\n",
      "-0.00413793 : -12.0\n",
      "-0.00333333 : -10.0\n",
      "-0.00419355 : -13.0\n",
      "-0.0025 : -8.0\n",
      "-0.00181818 : -6.0\n",
      "0.00176471 : 6.0\n",
      "0.00342857 : 12.0\n",
      "0.00527778 : 19.0\n",
      "0.00405405 : 15.0\n",
      "0.005 : 19.0\n",
      "0.00435897 : 17.0\n",
      "0.0045 : 18.0\n",
      "0.00536585 : 22.0\n",
      "0.00666667 : 28.0\n",
      "0.00627907 : 27.0\n",
      "0.00727273 : 32.0\n",
      "0.00733333 : 33.0\n",
      "0.00847826 : 39.0\n",
      "0.00978723 : 46.0\n",
      "0.00895833 : 43.0\n",
      "0.00979592 : 48.0\n",
      "0.0092 : 46.0\n",
      "0.0072549 : 37.0\n",
      "0.00653846 : 34.0\n",
      "0.00566038 : 30.0\n",
      "0.00592593 : 32.0\n",
      "0.00509091 : 28.0\n",
      "0.00553571 : 31.0\n",
      "0.00438596 : 25.0\n",
      "0.0037931 : 22.0\n",
      "0.0040678 : 24.0\n",
      "0.00383333 : 23.0\n",
      "0.00295082 : 18.0\n",
      "0.0033871 : 21.0\n",
      "0.00269841 : 17.0\n",
      "0.00296875 : 19.0\n",
      "0.00353846 : 23.0\n",
      "0.00454545 : 30.0\n",
      "0.00447761 : 30.0\n",
      "0.00397059 : 27.0\n",
      "0.00304348 : 21.0\n",
      "0.003 : 21.0\n",
      "0.00239437 : 17.0\n",
      "0.00277778 : 20.0\n",
      "0.0039726 : 29.0\n",
      "0.00527027 : 39.0\n",
      "0.00493333 : 37.0\n",
      "0.00513158 : 39.0\n",
      "0.00480519 : 37.0\n",
      "0.00397436 : 31.0\n",
      "0.00405063 : 32.0\n",
      "0.003625 : 29.0\n",
      "0.00296296 : 24.0\n",
      "0.00268293 : 22.0\n",
      "0.00240964 : 20.0\n",
      "0.00297619 : 25.0\n",
      "0.00388235 : 33.0\n",
      "0.00348837 : 30.0\n",
      "0.00356322 : 31.0\n",
      "0.00227273 : 20.0\n",
      "0.00191011 : 17.0\n",
      "0.00122222 : 11.0\n",
      "0.00197802 : 18.0\n",
      "0.00108696 : 10.0\n",
      "0.00150538 : 14.0\n",
      "0.00170213 : 16.0\n",
      "0.00210526 : 20.0\n",
      "0.00208333 : 20.0\n",
      "0.00226804 : 22.0\n",
      "0.00122449 : 12.0\n",
      "0.00151515 : 15.0\n",
      "0.0021 : 21.0\n"
     ]
    }
   ],
   "source": [
    "def CoinTosses(n):\n",
    "    list_rand = RandomNumbers(n)\n",
    "    s_rand = pd.Series(list_rand)\n",
    "    s_out = s_rand.map(lambda x: 'T' if x < 0.5 else 'H')\n",
    "    var_out = ''.join(s_out.values.tolist())\n",
    "    for i in range(1, int(np.ceil(n / 100)) + 1):\n",
    "        list_sub = list_test[0:(i * 100)]\n",
    "        var_heads = len(re.sub('T', '', list_sub))\n",
    "        var_i = (var_heads / len(list_sub)) - 0.5\n",
    "        print(round(var_i, 8))\n",
    "    return var_out\n",
    "print('Test 1')\n",
    "list_test = CoinTosses(10000)\n",
    "\n",
    "def CoinTosses(n):\n",
    "    list_rand = RandomNumbers(n)\n",
    "    s_rand = pd.Series(list_rand)\n",
    "    s_out = s_rand.map(lambda x: 'T' if x < 0.5 else 'H')\n",
    "    var_out = ''.join(s_out.values.tolist())\n",
    "    for i in range(1, int(np.ceil(n / 100)) + 1):\n",
    "        list_sub = list_test[0:(i * 100)]\n",
    "        var_heads = len(re.sub('T', '', list_sub))\n",
    "        var_i = (var_heads / len(list_sub)) - 0.5\n",
    "        var_j = var_heads - (len(list_sub) / 2)\n",
    "        print(round(var_i, 8), ':', var_j)\n",
    "    return var_out\n",
    "print('\\nTest 2')\n",
    "list_test = CoinTosses(10000)"
   ]
  },
  {
   "cell_type": "markdown",
   "metadata": {},
   "source": [
    "---\n",
    "**GigiSR**"
   ]
  }
 ],
 "metadata": {
  "kernelspec": {
   "display_name": "Python 3",
   "language": "python",
   "name": "python3"
  },
  "language_info": {
   "codemirror_mode": {
    "name": "ipython",
    "version": 3
   },
   "file_extension": ".py",
   "mimetype": "text/x-python",
   "name": "python",
   "nbconvert_exporter": "python",
   "pygments_lexer": "ipython3",
   "version": "3.6.5"
  }
 },
 "nbformat": 4,
 "nbformat_minor": 2
}
