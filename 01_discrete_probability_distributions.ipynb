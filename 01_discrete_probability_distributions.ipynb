{
 "cells": [
  {
   "cell_type": "markdown",
   "metadata": {},
   "source": [
    "# Grinstead and Snell's Introduction to Probability\n",
    "\n",
    "## Python setup"
   ]
  },
  {
   "cell_type": "code",
   "execution_count": 1,
   "metadata": {},
   "outputs": [],
   "source": [
    "import IPython.core.display as ICD\n",
    "import random\n",
    "import re\n",
    "\n",
    "import pandas as pd\n",
    "import numpy as np\n",
    "import matplotlib.pyplot as plt\n",
    "import seaborn as sns\n",
    "\n",
    "pd.set_option('display.max_rows', 12)\n",
    "pd.set_option('display.max_columns', None)\n",
    "\n",
    "%matplotlib inline"
   ]
  },
  {
   "cell_type": "markdown",
   "metadata": {},
   "source": [
    "## Chapter 1 - Discrete probability distributions\n",
    "\n",
    "### 1.1 Simulation of discrete probabilities\n",
    "\n",
    "#### Example 1.1 (Random Number Generation)\n",
    "\n",
    "The program `RandomNumbers` generates n random real numbers in the interval [0,1], where n is chosen by the user. When we ran the program with n = 20, we obtained the data shown below."
   ]
  },
  {
   "cell_type": "code",
   "execution_count": 2,
   "metadata": {},
   "outputs": [],
   "source": [
    "def RandomNumbers(n):\n",
    "    if (not str(n).isdigit()) | (n < 0):\n",
    "        raise ValueError('The n argument passed is not valid.')\n",
    "    return [random.random() for x in range(0, n)]"
   ]
  },
  {
   "cell_type": "code",
   "execution_count": 3,
   "metadata": {},
   "outputs": [
    {
     "data": {
      "text/plain": [
       "[0.10519013359745444,\n",
       " 0.3590996931679912,\n",
       " 0.05538423119165503,\n",
       " 0.5585973658759023,\n",
       " 0.9024777009880705,\n",
       " 0.6203343773264196,\n",
       " 0.7527039490259305,\n",
       " 0.4446034460004722,\n",
       " 0.8239893358679425,\n",
       " 0.1531906985826741,\n",
       " 0.999130798413396,\n",
       " 0.3446910379089373,\n",
       " 0.045870254242448394,\n",
       " 0.73369531816692,\n",
       " 0.40204668475660277,\n",
       " 0.8790057362833992,\n",
       " 0.8899567541378121,\n",
       " 0.7609372253159716,\n",
       " 0.16691174879451298,\n",
       " 0.6512161932607968]"
      ]
     },
     "execution_count": 3,
     "metadata": {},
     "output_type": "execute_result"
    }
   ],
   "source": [
    "RandomNumbers(20)"
   ]
  },
  {
   "cell_type": "markdown",
   "metadata": {},
   "source": [
    "#### Example 1.2 (Coin Tossing) \n",
    "\n",
    "As we have noted, our intuition suggests that the probability of obtaining a head on a single toss of a coin is 1/2. To have the computer toss a coin, we can ask it to pick a random real number in the interval [0,1] and test to see if this number is less than 1/2. If so, we shall call the outcome heads; if not we call it tails. Another way to proceed would be to ask the computer to pick a random integer from the set {0,1}. The program `CoinTosses` carries out the experiment of tossing a coin n times. Running this program, with n = 20, resulted in:\n",
    "\n",
    "THTTTHTTTTHTTTTTHHTT\n",
    "\n",
    "Note that in 20 tosses, we obtained 5 heads and 15 tails. Let us toss a coin n times, where n is much larger than 20, and see if we obtain a proportion of heads closer to our intuitive guess of 1/2. The program `CoinTosses` keeps track of the number of heads. When we ran this program with n = 1000, we obtained 494 heads. When we ran it with n = 10000, we obtained 5039 heads.\n",
    "\n",
    "We notice that when we tossed the coin 10,000 times, the proportion of heads was close to the “true value” .5 for obtaining a head when a coin is tossed. A mathematical model for this experiment is called Bernoulli Trials (see Chapter 3). The Law of Large Numbers, which we shall study later (see Chapter 8), will show that in the Bernoulli Trials model, the proportion of heads should be near .5, consistent with our intuitive idea of the frequency interpretation of probability. Of course, our program could be easily modiﬁed to simulate coins for which the probability of a head is p, where p is a real number between 0 and 1. "
   ]
  },
  {
   "cell_type": "code",
   "execution_count": 4,
   "metadata": {},
   "outputs": [],
   "source": [
    "def CoinTosses(n):\n",
    "    s_rand = pd.Series(RandomNumbers(n))\n",
    "    s_out = s_rand.map(lambda x: 'T' if x < 0.5 else 'H')\n",
    "    return ''.join(s_out.values.tolist())"
   ]
  },
  {
   "cell_type": "code",
   "execution_count": 5,
   "metadata": {},
   "outputs": [
    {
     "name": "stdout",
     "output_type": "stream",
     "text": [
      "THTHHTTHTHTHTTHHHHHH\n",
      "The number of heads: 12\n",
      "The number of tails: 8\n",
      "The final proportion, count(H) / count(runs): 0.4\n",
      "\n",
      "HHTHHHHHHHTTHHTTHHHHHHHTTTTHHTTHHHTHHHTTHHHTHHHTHTHTHTTHHHTTHTHTTTTHHHTHHHTHTHHTHHHHTHTTHHHTTHHTHTHH\n",
      "The number of heads: 62\n",
      "The number of tails: 38\n",
      "The final proportion, count(H) / count(runs): 0.38\n",
      "\n",
      "HHHTTTTTTTTTTHHTHHTHHHHTTHTHHHTTHHTTHTTHHHTHHTTTTT...\n",
      "The number of heads: 2502\n",
      "The number of tails: 2498\n",
      "The final proportion, count(H) / count(runs): 0.4996\n"
     ]
    }
   ],
   "source": [
    "var_test = CoinTosses(20)\n",
    "print(var_test)\n",
    "print('The number of heads:', len(var_test.replace('T', '')))\n",
    "print('The number of tails:', len(var_test.replace('H', '')))\n",
    "print('The final proportion, count(H) / count(runs):', len(var_test.replace('H', '')) / len(var_test))\n",
    "print()\n",
    "var_test = CoinTosses(100)\n",
    "print(var_test)\n",
    "print('The number of heads:', len(var_test.replace('T', '')))\n",
    "print('The number of tails:', len(var_test.replace('H', '')))\n",
    "print('The final proportion, count(H) / count(runs):', len(var_test.replace('H', '')) / len(var_test))\n",
    "print()\n",
    "var_test = CoinTosses(5000)\n",
    "print(var_test[0:50], '...', sep='')\n",
    "print('The number of heads:', len(var_test.replace('T', '')))\n",
    "print('The number of tails:', len(var_test.replace('H', '')))\n",
    "print('The final proportion, count(H) / count(runs):', len(var_test.replace('H', '')) / len(var_test))"
   ]
  },
  {
   "cell_type": "markdown",
   "metadata": {},
   "source": [
    "#### Example 1.3 (Dice Rolling)\n",
    "\n",
    "We consider a dice game that played an important role in the historical development of probability. The famous letters between Pascal and Fermat, which many believe started a serious study of probability, were instigated by a request for help from a French nobleman and gambler, Chevalier de M´ er´ e. It is said that de M´ er´ e had been betting that, in four rolls of a die, at least one six would turn up. He was winning consistently and, to get more people to play, he changed the game to bet that, in 24 rolls of two dice, a pair of sixes would turn up. It is claimed that de M´ er´ e lost with 24 and felt that 25 rolls were necessary to make the game favorable. It was un grand scandale that mathematics was wrong. \n",
    "\n",
    "We shall try to see if de M´ er´ e is correct by simulating his various bets. The program `DeMere1` simulates a large number of experiments, seeing, in each one, if a six turns up in four rolls of a die. When we ran this program for 1000 plays, a six came up in the ﬁrst four rolls 48.6 percent of the time. When we ran it for 10,000 plays this happened 51.98 percent of the time. We note that the result of the second run suggests that de M´ er´ e was correct in believing that his bet with one die was favorable; however, if we had based our conclusion on the ﬁrst run, we would have decided that he was wrong. Accurate results by simulation require a large number of experiments. "
   ]
  },
  {
   "cell_type": "code",
   "execution_count": 6,
   "metadata": {},
   "outputs": [],
   "source": [
    "def DeMere1(n, roll_count):\n",
    "    list_rand = [[random.choice([1, 2, 3, 4, 5, 6]) for y in range(0, roll_count)] for x in range(0, n)]\n",
    "    s_rand = pd.Series(list_rand)\n",
    "    s_outcome = s_rand.map(lambda x: 6 in x)\n",
    "    df_out = pd.concat([s_rand, s_outcome], axis=1)\n",
    "    return df_out"
   ]
  },
  {
   "cell_type": "code",
   "execution_count": 7,
   "metadata": {},
   "outputs": [
    {
     "data": {
      "text/plain": [
       "True     0.52\n",
       "False    0.48\n",
       "Name: 1, dtype: float64"
      ]
     },
     "metadata": {},
     "output_type": "display_data"
    },
    {
     "data": {
      "text/plain": [
       "True     0.522\n",
       "False    0.478\n",
       "Name: 1, dtype: float64"
      ]
     },
     "metadata": {},
     "output_type": "display_data"
    },
    {
     "data": {
      "text/plain": [
       "True     0.5174\n",
       "False    0.4826\n",
       "Name: 1, dtype: float64"
      ]
     },
     "metadata": {},
     "output_type": "display_data"
    },
    {
     "data": {
      "text/plain": [
       "True     0.517708\n",
       "False    0.482292\n",
       "Name: 1, dtype: float64"
      ]
     },
     "metadata": {},
     "output_type": "display_data"
    }
   ],
   "source": [
    "df_test = DeMere1(1000, 4)\n",
    "ICD.display(df_test[1].value_counts() / df_test.shape[0])\n",
    "\n",
    "df_test = DeMere1(10000, 4)\n",
    "ICD.display(df_test[1].value_counts() / df_test.shape[0])\n",
    "\n",
    "df_test = DeMere1(100000, 4)\n",
    "ICD.display(df_test[1].value_counts() / df_test.shape[0])\n",
    "\n",
    "df_test = DeMere1(1000000, 4)\n",
    "ICD.display(df_test[1].value_counts() / df_test.shape[0])"
   ]
  },
  {
   "cell_type": "markdown",
   "metadata": {},
   "source": [
    "The program `DeMere2` simulates de M´ er´e’s second bet that a pair of sixes will occur in n rolls of a pair of dice."
   ]
  },
  {
   "cell_type": "code",
   "execution_count": 8,
   "metadata": {},
   "outputs": [],
   "source": [
    "def DeMere2(n, roll_count):\n",
    "    list_rand = [[\n",
    "        [random.choice([1, 2, 3, 4, 5, 6]), random.choice([1, 2, 3, 4, 5, 6])] \n",
    "        for y in range(0, roll_count)] for x in range(0, n)\n",
    "    ]\n",
    "    s_rand = pd.Series(list_rand)\n",
    "    s_outcome = s_rand.map(lambda x: [6, 6] in x)\n",
    "    df_out = pd.concat([s_rand, s_outcome], axis=1)\n",
    "    return df_out"
   ]
  },
  {
   "cell_type": "code",
   "execution_count": 9,
   "metadata": {},
   "outputs": [
    {
     "data": {
      "text/plain": [
       "False    0.5106\n",
       "True     0.4894\n",
       "Name: 1, dtype: float64"
      ]
     },
     "metadata": {},
     "output_type": "display_data"
    },
    {
     "data": {
      "text/plain": [
       "False    0.50967\n",
       "True     0.49033\n",
       "Name: 1, dtype: float64"
      ]
     },
     "metadata": {},
     "output_type": "display_data"
    },
    {
     "data": {
      "text/plain": [
       "True     0.5076\n",
       "False    0.4924\n",
       "Name: 1, dtype: float64"
      ]
     },
     "metadata": {},
     "output_type": "display_data"
    },
    {
     "data": {
      "text/plain": [
       "True     0.50616\n",
       "False    0.49384\n",
       "Name: 1, dtype: float64"
      ]
     },
     "metadata": {},
     "output_type": "display_data"
    }
   ],
   "source": [
    "df_test = DeMere2(10000, 24)\n",
    "ICD.display(df_test[1].value_counts() / df_test.shape[0])\n",
    "\n",
    "df_test = DeMere2(100000, 24)\n",
    "ICD.display(df_test[1].value_counts() / df_test.shape[0])\n",
    "\n",
    "df_test = DeMere2(10000, 25)\n",
    "ICD.display(df_test[1].value_counts() / df_test.shape[0])\n",
    "\n",
    "df_test = DeMere2(100000, 25)\n",
    "ICD.display(df_test[1].value_counts() / df_test.shape[0])"
   ]
  },
  {
   "cell_type": "markdown",
   "metadata": {},
   "source": [
    "#### Example 1.4 (Heads or Tails) \n",
    "\n",
    "For our next example, we consider a problem where the exact answer is diﬃcult to obtain but for which simulation easily gives the qualitative results. Peter and Paul play a game called heads or tails. In this game, a fair coin is tossed a sequence of times—we choose 40. Each time a head comes up Peter wins 1 penny from Paul, and each time a tail comes up Peter loses 1 penny to Paul. For example, if the results of the 40 tosses are\n",
    "\n",
    "THTHHHHTTHTHHTTHHTTTTHHHTHHTHHHTHHHTTTHH.\n",
    "\n",
    "It is natural to ask for the probability that he will win j pennies; here j could be any even number from −40 to 40. It is reasonable to guess that the value of j with the highest probability is j = 0, since this occurs when the number of heads equals the number of tails. Similarly, we would guess that the values of j with the lowest probabilities are j = ±40."
   ]
  },
  {
   "cell_type": "code",
   "execution_count": 10,
   "metadata": {},
   "outputs": [],
   "source": [
    "def HeadsOrTails(n):\n",
    "    list_rand = [random.choice(['T', 'H']) for x in range(0, n)]\n",
    "    s_rand = pd.Series(list_rand)\n",
    "    s_amt = s_rand.map({'H': 1, 'T': -1})\n",
    "    s_cumsum = s_amt.cumsum()\n",
    "    s_in_lead = s_cumsum > 0\n",
    "    s_in_lead = s_in_lead | ((s_cumsum == 0) & s_in_lead.shift())\n",
    "    df_out = pd.concat([s_rand, s_amt, s_cumsum, s_in_lead], axis=1)\n",
    "    return df_out"
   ]
  },
  {
   "cell_type": "code",
   "execution_count": 11,
   "metadata": {},
   "outputs": [],
   "source": [
    "def HTSimulation(n, run_length=40):\n",
    "    list_sims = [HeadsOrTails(run_length) for x in range(0, int(n))]\n",
    "    return list_sims"
   ]
  },
  {
   "cell_type": "code",
   "execution_count": 12,
   "metadata": {},
   "outputs": [
    {
     "name": "stdout",
     "output_type": "stream",
     "text": [
      "Wall time: 1min 10s\n"
     ]
    }
   ],
   "source": [
    "%%time\n",
    "list_test = HTSimulation(10e3, 40)"
   ]
  },
  {
   "cell_type": "code",
   "execution_count": 13,
   "metadata": {},
   "outputs": [
    {
     "data": {
      "text/plain": [
       "<matplotlib.axes._subplots.AxesSubplot at 0x1a491ee46d8>"
      ]
     },
     "execution_count": 13,
     "metadata": {},
     "output_type": "execute_result"
    },
    {
     "data": {
      "image/png": "[encoded data removed]",
      "text/plain": [
       "<Figure size 432x288 with 1 Axes>"
      ]
     },
     "metadata": {},
     "output_type": "display_data"
    }
   ],
   "source": [
    "list_outcomes = [x[1].sum() for x in list_test]\n",
    "pd.Series(list_outcomes).hist(bins=len(set(list_outcomes)))"
   ]
  },
  {
   "cell_type": "markdown",
   "metadata": {},
   "source": [
    "A second interesting question about this game is the following: How many times in the 40 tosses will Peter be in the lead? Looking at the graph of his winnings (above), we see that Peter is in the lead when his winnings are positive, but we have to make some convention when his winnings are 0 if we want all tosses to contribute to the number of times in the lead. We adopt the convention that, when Peter’s winnings are 0, he is in the lead if he was ahead at the previous toss and not if he was behind at the previous toss. With this convention, Peter is in the lead 34 times in our example. Again, our intuition might suggest that the most likely number of times to be in the lead is 1/2 of 40, or 20, and the least likely numbers are the extreme cases of 40 or 0. \n",
    "\n",
    "It is easy to settle this by simulating the game a large number of times and keeping track of the number of times that Peter’s ﬁnal winnings are j, and the number of times that Peter ends up being in the lead by k. The proportions over all games then give estimates for the corresponding probabilities. The program `HTSimulation` carries out this simulation. Note that when there are an even number of tosses in the game, it is possible to be in the lead only an even number of times. We have simulated this game 10,000 times. \n",
    "\n",
    "These graphs, which we call spike graphs, were generated using the program `Spikegraph`. The vertical line, or spike, at position x on the horizontal axis, has a height equal to the proportion of outcomes which equal x. Our intuition about Peter’s ﬁnal winnings was quite correct, but our intuition about the number of times Peter was in the lead was completely wrong. The simulation suggests that the least likely number of times in the lead is 20 and the most likely is 0 or 40. This is indeed correct, and the explanation for it is suggested by playing the game of heads or tails with a large number of tosses and looking at a graph of Peter’s winnings."
   ]
  },
  {
   "cell_type": "code",
   "execution_count": 14,
   "metadata": {},
   "outputs": [],
   "source": [
    "def Spikegraph(values):\n",
    "    plt.figure()\n",
    "    values.plot()\n",
    "    plt.hlines(y=0, xmin=0, xmax=len(values))"
   ]
  },
  {
   "cell_type": "code",
   "execution_count": 15,
   "metadata": {},
   "outputs": [
    {
     "data": {
      "image/png": "[encoded data removed]",
      "text/plain": [
       "<Figure size 432x288 with 1 Axes>"
      ]
     },
     "metadata": {},
     "output_type": "display_data"
    },
    {
     "data": {
      "image/png": "[encoded data removed]",
      "text/plain": [
       "<Figure size 432x288 with 1 Axes>"
      ]
     },
     "metadata": {},
     "output_type": "display_data"
    },
    {
     "data": {
      "image/png": "[encoded data removed]",
      "text/plain": [
       "<Figure size 432x288 with 1 Axes>"
      ]
     },
     "metadata": {},
     "output_type": "display_data"
    }
   ],
   "source": [
    "Spikegraph(list_test[0][2])\n",
    "Spikegraph(list_test[1][2])\n",
    "Spikegraph(list_test[2][2])"
   ]
  },
  {
   "cell_type": "markdown",
   "metadata": {},
   "source": [
    "#### Example 1.5 (Horse Races) \n",
    "\n",
    "Four horses (Acorn, Balky, Chestnut, and Dolby) have raced many times. It is estimated that Acorn wins 30 percent of the time, Balky 40 percent of the time, Chestnut 20 percent of the time, and Dolby 10 percent of the time. \n",
    "\n",
    "We can have our computer carry out one race as follows: Choose a random number x. If x < .3 then we say that Acorn won. If .3 ≤ x < .7 then Balky wins. If .7 ≤x < .9 then Chestnut wins. Finally, if .9 ≤ x then Dolby wins. \n",
    "\n",
    "The program `HorseRace` uses this method to simulate the outcomes of n races. Running this program for n = 10 we found that Acorn won 40 percent of the time, Balky 20 percent of the time, Chestnut 10 percent of the time, and Dolby 30 percent of the time. A larger number of races would be necessary to have better agreement with the past experience. Therefore we ran the program to simulate 1000 races with our four horses. Although very tired after all these races, they performed in a manner quite consistent with our estimates of their abilities. Acorn won 29.8 percent of the time, Balky 39.4 percent, Chestnut 19.5 percent, and Dolby 11.3 percent of the time. "
   ]
  },
  {
   "cell_type": "code",
   "execution_count": 16,
   "metadata": {},
   "outputs": [],
   "source": [
    "def HorseRace(n):\n",
    "    list_rand = RandomNumbers(n)\n",
    "    s_rand = pd.Series(list_rand)\n",
    "    s_horses = pd.cut(s_rand, [0, 0.3, 0.7, 0.9, 1.1], labels=['Acron', 'Balky', 'Chestnut', 'Dolby'])\n",
    "    df_out = pd.concat([s_rand, s_horses], axis=1)\n",
    "    return df_out"
   ]
  },
  {
   "cell_type": "code",
   "execution_count": 17,
   "metadata": {},
   "outputs": [
    {
     "data": {
      "text/plain": [
       "Acron       0.294\n",
       "Balky       0.394\n",
       "Chestnut    0.206\n",
       "Dolby       0.106\n",
       "Name: 1, dtype: float64"
      ]
     },
     "metadata": {},
     "output_type": "display_data"
    },
    {
     "data": {
      "text/plain": [
       "Acron       0.2906\n",
       "Balky       0.4094\n",
       "Chestnut    0.2008\n",
       "Dolby       0.0992\n",
       "Name: 1, dtype: float64"
      ]
     },
     "metadata": {},
     "output_type": "display_data"
    },
    {
     "data": {
      "text/plain": [
       "Acron       0.30019\n",
       "Balky       0.39964\n",
       "Chestnut    0.19912\n",
       "Dolby       0.10105\n",
       "Name: 1, dtype: float64"
      ]
     },
     "metadata": {},
     "output_type": "display_data"
    }
   ],
   "source": [
    "df_test = HorseRace(1000)\n",
    "ICD.display(df_test[1].value_counts().sort_index() / df_test.shape[0])\n",
    "\n",
    "df_test = HorseRace(10000)\n",
    "ICD.display(df_test[1].value_counts().sort_index() / df_test.shape[0])\n",
    "\n",
    "df_test = HorseRace(100000)\n",
    "ICD.display(df_test[1].value_counts().sort_index() / df_test.shape[0])"
   ]
  },
  {
   "cell_type": "markdown",
   "metadata": {},
   "source": [
    "The program `GeneralSimulation` uses this method to simulate repetitions of an arbitrary experiment with a ﬁnite number of outcomes occurring with known probabilities. "
   ]
  },
  {
   "cell_type": "code",
   "execution_count": 18,
   "metadata": {},
   "outputs": [],
   "source": [
    "def GeneralSimulation(n, list_odds, list_labels):\n",
    "    list_rand = RandomNumbers(n)\n",
    "    s_rand = pd.Series(list_rand)\n",
    "    list_odds_use = [0] + [x for x in pd.Series(list_odds).cumsum().values]\n",
    "    list_odds_use[len(list_odds_use) - 1] = 1.1\n",
    "    s_outcomes = pd.cut(s_rand, list_odds_use, labels=list_labels)\n",
    "    df_out = pd.concat([s_rand, s_outcomes], axis=1)\n",
    "    return df_out"
   ]
  },
  {
   "cell_type": "code",
   "execution_count": 19,
   "metadata": {},
   "outputs": [
    {
     "data": {
      "text/plain": [
       "Acorn       0.317\n",
       "Balky       0.400\n",
       "Chestnut    0.201\n",
       "Dolby       0.082\n",
       "Name: 1, dtype: float64"
      ]
     },
     "metadata": {},
     "output_type": "display_data"
    },
    {
     "data": {
      "text/plain": [
       "Acorn       0.2971\n",
       "Balky       0.4023\n",
       "Chestnut    0.2022\n",
       "Dolby       0.0984\n",
       "Name: 1, dtype: float64"
      ]
     },
     "metadata": {},
     "output_type": "display_data"
    },
    {
     "data": {
      "text/plain": [
       "Acorn       0.30084\n",
       "Balky       0.39833\n",
       "Chestnut    0.20095\n",
       "Dolby       0.09988\n",
       "Name: 1, dtype: float64"
      ]
     },
     "metadata": {},
     "output_type": "display_data"
    }
   ],
   "source": [
    "df_test = GeneralSimulation(1000, [0.3, 0.4, 0.2, 0.1], ['Acorn', 'Balky', 'Chestnut', 'Dolby'])\n",
    "ICD.display(df_test[1].value_counts().sort_index() / df_test.shape[0])\n",
    "\n",
    "df_test = GeneralSimulation(10000, [0.3, 0.4, 0.2, 0.1], ['Acorn', 'Balky', 'Chestnut', 'Dolby'])\n",
    "ICD.display(df_test[1].value_counts().sort_index() / df_test.shape[0])\n",
    "\n",
    "df_test = GeneralSimulation(100000, [0.3, 0.4, 0.2, 0.1], ['Acorn', 'Balky', 'Chestnut', 'Dolby'])\n",
    "ICD.display(df_test[1].value_counts().sort_index() / df_test.shape[0])"
   ]
  },
  {
   "cell_type": "markdown",
   "metadata": {},
   "source": [
    "## Exercises\n",
    "\n",
    "1. Modify the program `CoinTosses` to toss a coin n times and print out after every 100 tosses the proportion of heads minus 1/2. Do these numbers appear to approach 0 as n increases? Modify the program again to print out, every 100 times, both of the following quantities: the proportion of heads minus 1/2, and the number of heads minus half the number of tosses. Do these numbers appear to approach 0 as n increases?\n",
    "\n",
    "The proportion appears to be slowly approaching 0 as n increases.\n",
    "\n",
    "The second part looks much the same for the proportion and then the number of heads minus the number of tosses seems to fluctuate but remain relatively small. The number of simulations I have done may not be enough to see the count approach 0 however the relatively small number away from 0 might imply that the frequency is slowly moving towards the expected average of 0.5."
   ]
  },
  {
   "cell_type": "code",
   "execution_count": 20,
   "metadata": {},
   "outputs": [
    {
     "name": "stdout",
     "output_type": "stream",
     "text": [
      "Test 1\n",
      "0.02\n",
      "-0.005\n",
      "-0.01\n",
      "-0.0275\n",
      "-0.018\n",
      "-0.01333333\n",
      "-0.00285714\n",
      "-0.0075\n",
      "0.00333333\n",
      "-0.001\n",
      "-0.00090909\n",
      "0.0\n",
      "-0.00384615\n",
      "0.00214286\n",
      "0.002\n",
      "-0.000625\n",
      "0.00117647\n",
      "0.00166667\n",
      "0.00421053\n",
      "-0.0015\n",
      "-0.00380952\n",
      "-0.00545455\n",
      "-0.00434783\n",
      "-0.00208333\n",
      "-0.0004\n",
      "0.00115385\n",
      "0.00259259\n",
      "0.0025\n",
      "0.00275862\n",
      "0.003\n",
      "0.00419355\n",
      "0.003125\n",
      "0.00272727\n",
      "0.00411765\n",
      "0.00457143\n",
      "0.00527778\n",
      "0.00432432\n",
      "0.00631579\n",
      "0.00769231\n",
      "0.00525\n",
      "0.00439024\n",
      "0.00404762\n",
      "0.00302326\n",
      "0.0\n",
      "-0.00022222\n",
      "0.00086957\n",
      "0.00191489\n",
      "0.00270833\n",
      "0.00244898\n",
      "0.003\n",
      "0.00333333\n",
      "0.00288462\n",
      "0.00301887\n",
      "0.00277778\n",
      "0.00145455\n",
      "0.00125\n",
      "0.00122807\n",
      "0.0\n",
      "0.00118644\n",
      "0.0015\n",
      "0.00196721\n",
      "0.00177419\n",
      "0.00222222\n",
      "0.00203125\n",
      "0.00230769\n",
      "0.00227273\n",
      "0.00238806\n",
      "0.00205882\n",
      "0.00202899\n",
      "0.00171429\n",
      "0.00056338\n",
      "0.00138889\n",
      "0.00150685\n",
      "0.00189189\n",
      "0.0024\n",
      "0.00171053\n",
      "0.00194805\n",
      "0.00089744\n",
      "0.00101266\n",
      "0.000875\n",
      "0.00135802\n",
      "0.00060976\n",
      "0.00072289\n",
      "0.00071429\n",
      "-0.00023529\n",
      "0.00023256\n",
      "-0.00022989\n",
      "-0.00045455\n",
      "-0.00067416\n",
      "-0.00033333\n",
      "0.00054945\n",
      "0.00119565\n",
      "0.00021505\n",
      "0.00053191\n",
      "0.00031579\n",
      "0.00052083\n",
      "0.0\n",
      "-0.00061224\n",
      "-0.00070707\n",
      "-0.0013\n",
      "\n",
      "Test 2\n",
      "0.02 : 2.0\n",
      "-0.005 : -1.0\n",
      "-0.01 : -3.0\n",
      "-0.0275 : -11.0\n",
      "-0.018 : -9.0\n",
      "-0.01333333 : -8.0\n",
      "-0.00285714 : -2.0\n",
      "-0.0075 : -6.0\n",
      "0.00333333 : 3.0\n",
      "-0.001 : -1.0\n",
      "-0.00090909 : -1.0\n",
      "0.0 : 0.0\n",
      "-0.00384615 : -5.0\n",
      "0.00214286 : 3.0\n",
      "0.002 : 3.0\n",
      "-0.000625 : -1.0\n",
      "0.00117647 : 2.0\n",
      "0.00166667 : 3.0\n",
      "0.00421053 : 8.0\n",
      "-0.0015 : -3.0\n",
      "-0.00380952 : -8.0\n",
      "-0.00545455 : -12.0\n",
      "-0.00434783 : -10.0\n",
      "-0.00208333 : -5.0\n",
      "-0.0004 : -1.0\n",
      "0.00115385 : 3.0\n",
      "0.00259259 : 7.0\n",
      "0.0025 : 7.0\n",
      "0.00275862 : 8.0\n",
      "0.003 : 9.0\n",
      "0.00419355 : 13.0\n",
      "0.003125 : 10.0\n",
      "0.00272727 : 9.0\n",
      "0.00411765 : 14.0\n",
      "0.00457143 : 16.0\n",
      "0.00527778 : 19.0\n",
      "0.00432432 : 16.0\n",
      "0.00631579 : 24.0\n",
      "0.00769231 : 30.0\n",
      "0.00525 : 21.0\n",
      "0.00439024 : 18.0\n",
      "0.00404762 : 17.0\n",
      "0.00302326 : 13.0\n",
      "0.0 : 0.0\n",
      "-0.00022222 : -1.0\n",
      "0.00086957 : 4.0\n",
      "0.00191489 : 9.0\n",
      "0.00270833 : 13.0\n",
      "0.00244898 : 12.0\n",
      "0.003 : 15.0\n",
      "0.00333333 : 17.0\n",
      "0.00288462 : 15.0\n",
      "0.00301887 : 16.0\n",
      "0.00277778 : 15.0\n",
      "0.00145455 : 8.0\n",
      "0.00125 : 7.0\n",
      "0.00122807 : 7.0\n",
      "0.0 : 0.0\n",
      "0.00118644 : 7.0\n",
      "0.0015 : 9.0\n",
      "0.00196721 : 12.0\n",
      "0.00177419 : 11.0\n",
      "0.00222222 : 14.0\n",
      "0.00203125 : 13.0\n",
      "0.00230769 : 15.0\n",
      "0.00227273 : 15.0\n",
      "0.00238806 : 16.0\n",
      "0.00205882 : 14.0\n",
      "0.00202899 : 14.0\n",
      "0.00171429 : 12.0\n",
      "0.00056338 : 4.0\n",
      "0.00138889 : 10.0\n",
      "0.00150685 : 11.0\n",
      "0.00189189 : 14.0\n",
      "0.0024 : 18.0\n",
      "0.00171053 : 13.0\n",
      "0.00194805 : 15.0\n",
      "0.00089744 : 7.0\n",
      "0.00101266 : 8.0\n",
      "0.000875 : 7.0\n",
      "0.00135802 : 11.0\n",
      "0.00060976 : 5.0\n",
      "0.00072289 : 6.0\n",
      "0.00071429 : 6.0\n",
      "-0.00023529 : -2.0\n",
      "0.00023256 : 2.0\n",
      "-0.00022989 : -2.0\n",
      "-0.00045455 : -4.0\n",
      "-0.00067416 : -6.0\n",
      "-0.00033333 : -3.0\n",
      "0.00054945 : 5.0\n",
      "0.00119565 : 11.0\n",
      "0.00021505 : 2.0\n",
      "0.00053191 : 5.0\n",
      "0.00031579 : 3.0\n",
      "0.00052083 : 5.0\n",
      "0.0 : 0.0\n",
      "-0.00061224 : -6.0\n",
      "-0.00070707 : -7.0\n",
      "-0.0013 : -13.0\n"
     ]
    }
   ],
   "source": [
    "def CoinTosses(n):\n",
    "    list_rand = RandomNumbers(n)\n",
    "    s_rand = pd.Series(list_rand)\n",
    "    s_out = s_rand.map(lambda x: 'T' if x < 0.5 else 'H')\n",
    "    var_out = ''.join(s_out.values.tolist())\n",
    "    for i in range(1, int(np.ceil(n / 100)) + 1):\n",
    "        list_sub = var_out[0:(i * 100)]\n",
    "        var_heads = len(re.sub('T', '', list_sub))\n",
    "        var_i = (var_heads / len(list_sub)) - 0.5\n",
    "        print(round(var_i, 8))\n",
    "    return var_out\n",
    "print('Test 1')\n",
    "list_test = CoinTosses(10000)\n",
    "\n",
    "def CoinTosses(n):\n",
    "    list_rand = RandomNumbers(n)\n",
    "    s_rand = pd.Series(list_rand)\n",
    "    s_out = s_rand.map(lambda x: 'T' if x < 0.5 else 'H')\n",
    "    var_out = ''.join(s_out.values.tolist())\n",
    "    for i in range(1, int(np.ceil(n / 100)) + 1):\n",
    "        list_sub = list_test[0:(i * 100)]\n",
    "        var_heads = len(re.sub('T', '', list_sub))\n",
    "        var_i = (var_heads / len(list_sub)) - 0.5\n",
    "        var_j = var_heads - (len(list_sub) / 2)\n",
    "        print(round(var_i, 8), ':', var_j)\n",
    "    return var_out\n",
    "print('\\nTest 2')\n",
    "list_test = CoinTosses(10000)"
   ]
  },
  {
   "cell_type": "markdown",
   "metadata": {},
   "source": [
    "2. Modify the program `CoinTosses` so that it tosses a coin n times and records whether or not the proportion of heads is within .1 of .5 (i.e., between .4 and .6). Have your program repeat this experiment 100 times. About how large must n be so that approximately 95 out of 100 times the proportion of heads is between .4 and .6?\n",
    "\n",
    "I would say n=90 is our sweet spot based on the below histograms. The histograms seem to shift over to be more consistently centered on the 0.95 and above proportion value at this value of n. "
   ]
  },
  {
   "cell_type": "code",
   "execution_count": 21,
   "metadata": {},
   "outputs": [],
   "source": [
    "def CoinTosses(n):\n",
    "    s_rand = pd.Series(RandomNumbers(n))\n",
    "    s_out = s_rand.map(lambda x: 'T' if x < 0.5 else 'H')\n",
    "    var_prop = len(''.join(s_out.loc[s_out == 'H'].values.tolist())) / s_out.shape[0]\n",
    "    return (var_prop >= 0.4) & (var_prop <= 0.6)"
   ]
  },
  {
   "cell_type": "code",
   "execution_count": 22,
   "metadata": {
    "scrolled": false
   },
   "outputs": [
    {
     "name": "stdout",
     "output_type": "stream",
     "text": [
      "Wall time: 5min\n"
     ]
    },
    {
     "data": {
      "image/png": "[encoded data removed]",
      "text/plain": [
       "<Figure size 720x360 with 1 Axes>"
      ]
     },
     "metadata": {},
     "output_type": "display_data"
    },
    {
     "data": {
      "image/png": "[encoded data removed]",
      "text/plain": [
       "<Figure size 720x360 with 1 Axes>"
      ]
     },
     "metadata": {},
     "output_type": "display_data"
    },
    {
     "data": {
      "image/png": "[encoded data removed]",
      "text/plain": [
       "<Figure size 720x360 with 1 Axes>"
      ]
     },
     "metadata": {},
     "output_type": "display_data"
    },
    {
     "data": {
      "image/png": "[encoded data removed]",
      "text/plain": [
       "<Figure size 720x360 with 1 Axes>"
      ]
     },
     "metadata": {},
     "output_type": "display_data"
    },
    {
     "data": {
      "image/png": "[encoded data removed]",
      "text/plain": [
       "<Figure size 720x360 with 1 Axes>"
      ]
     },
     "metadata": {},
     "output_type": "display_data"
    },
    {
     "data": {
      "image/png": "[encoded data removed]",
      "text/plain": [
       "<Figure size 720x360 with 1 Axes>"
      ]
     },
     "metadata": {},
     "output_type": "display_data"
    },
    {
     "data": {
      "image/png": "[encoded data removed]",
      "text/plain": [
       "<Figure size 720x360 with 1 Axes>"
      ]
     },
     "metadata": {},
     "output_type": "display_data"
    },
    {
     "data": {
      "image/png": "[encoded data removed]",
      "text/plain": [
       "<Figure size 720x360 with 1 Axes>"
      ]
     },
     "metadata": {},
     "output_type": "display_data"
    },
    {
     "data": {
      "image/png": "[encoded data removed]",
      "text/plain": [
       "<Figure size 720x360 with 1 Axes>"
      ]
     },
     "metadata": {},
     "output_type": "display_data"
    },
    {
     "data": {
      "image/png": "[encoded data removed]",
      "text/plain": [
       "<Figure size 720x360 with 1 Axes>"
      ]
     },
     "metadata": {},
     "output_type": "display_data"
    }
   ],
   "source": [
    "%%time\n",
    "# This takes a while to run\n",
    "for count in range(80, 100, 2):\n",
    "    plt.figure(figsize=(10, 5))\n",
    "    \n",
    "    list_outcomes = [\n",
    "        # For n (count) tosses take the mean of how many fit our criteria\n",
    "        np.mean([CoinTosses(count) for x in range(0, 100)]) \n",
    "        # Repeat this 250 times so that we get a good idea that the \n",
    "        # average is a good approximation\n",
    "        for y in range(0, 250)\n",
    "    ]\n",
    "    plt.hist(list_outcomes, bins=100)\n",
    "    plt.xlim(0.8, 1)\n",
    "    plt.title('n = {}'.format(count))"
   ]
  },
  {
   "cell_type": "markdown",
   "metadata": {},
   "source": [
    "3. In the early 1600s, Galileo was asked to explain the fact that, although the number of triples of integers from 1 to 6 with sum 9 is the same as the number of such triples with sum 10, when three dice are rolled, a 9 seemed to come up less often than a 10—supposedly in the experience of gamblers.\n",
    "\n",
    " + Write a program to simulate the roll of three dice a large number of times and keep track of the proportion of times that the sum is 9 and the proportion of times it is 10. \n",
    " + Can you conclude from your simulations that the gamblers were correct?\n",
    "\n",
    "I would side with the gamblers in this instance. In an example of 1,000,000 rolls there are 116,007 totals of 9 and 125,397 totals of 10 which is definitely more for the sum to 10."
   ]
  },
  {
   "cell_type": "code",
   "execution_count": 67,
   "metadata": {},
   "outputs": [],
   "source": [
    "def func_sum_proportions(n):\n",
    "    list_rand_1 = [random.choice([1, 2, 3, 4, 5, 6]) for x in range(0, n)]\n",
    "    list_rand_2 = [random.choice([1, 2, 3, 4, 5, 6]) for x in range(0, n)]\n",
    "    list_rand_3 = [random.choice([1, 2, 3, 4, 5, 6]) for x in range(0, n)]\n",
    "    s_rand_1 = pd.Series(list_rand_1)\n",
    "    s_rand_2 = pd.Series(list_rand_2)\n",
    "    s_rand_3 = pd.Series(list_rand_3)\n",
    "    df_out = pd.concat([s_rand_1, s_rand_2, s_rand_3], axis=1)\n",
    "    df_out['total'] = df_out.sum(axis=1)\n",
    "    var_sum_9 = df_out.loc[df_out['total'] == 9].shape[0]\n",
    "    var_sum_10 = df_out.loc[df_out['total'] == 10].shape[0]\n",
    "    return (df_out, var_sum_9, var_sum_10)"
   ]
  },
  {
   "cell_type": "code",
   "execution_count": 24,
   "metadata": {},
   "outputs": [
    {
     "name": "stdout",
     "output_type": "stream",
     "text": [
      "Sum to 9: 102 \n",
      "Sum to 10: 119\n",
      "\n",
      "Sum to 9: 1126 \n",
      "Sum to 10: 1209\n",
      "\n",
      "Sum to 9: 11513 \n",
      "Sum to 10: 12711\n",
      "\n",
      "Sum to 9: 115776 \n",
      "Sum to 10: 124900"
     ]
    }
   ],
   "source": [
    "tuple_test = func_sum_proportions(1000)\n",
    "print('Sum to 9:', tuple_test[1], '\\nSum to 10:', tuple_test[2], end='\\n\\n')\n",
    "tuple_test = func_sum_proportions(10000)\n",
    "print('Sum to 9:', tuple_test[1], '\\nSum to 10:', tuple_test[2], end='\\n\\n')\n",
    "tuple_test = func_sum_proportions(100000)\n",
    "print('Sum to 9:', tuple_test[1], '\\nSum to 10:', tuple_test[2], end='\\n\\n')\n",
    "tuple_test = func_sum_proportions(1000000)\n",
    "print('Sum to 9:', tuple_test[1], '\\nSum to 10:', tuple_test[2], end='')"
   ]
  },
  {
   "cell_type": "markdown",
   "metadata": {},
   "source": [
    "4. In raquetball, a player continues to serve as long as she is winning; a point is scored only when a player is serving and wins the volley. The ﬁrst player to win 21 points wins the game. Assume that you serve ﬁrst and have a probability .6 of winning a volley when you serve and probability .5 when your opponent serves. Estimate, by simulation, the probability that you will win a game.\n",
    "\n",
    "I estimate, based on 10,000 simulations, that the probability that we will win a game is 55.7% to 1 decimal place."
   ]
  },
  {
   "cell_type": "code",
   "execution_count": 30,
   "metadata": {},
   "outputs": [],
   "source": [
    "def func_play_game():\n",
    "    dict_point_total = {'p1': 0, 'p2': 0}\n",
    "    dict_prob = {'serve': 0.6, 'receive': 0.5}\n",
    "    var_curr_player = 'p1'\n",
    "    var_type = 'serve'\n",
    "    while (dict_point_total['p1'] < 21) | (dict_point_total['p2'] < 21):\n",
    "        var_rand = RandomNumbers(1)[0]\n",
    "        if var_rand >= dict_prob[var_type]:\n",
    "            if var_type == 'serve':\n",
    "                dict_point_total[var_curr_player] += 1\n",
    "            var_type = 'serve'\n",
    "        else:\n",
    "            if var_type == 'receive':\n",
    "                dict_point_total[var_curr_player] += 1\n",
    "            var_type = 'receive'\n",
    "            var_curr_player = [x for x in ['p1', 'p2'] if x != var_curr_player][0]\n",
    "    return [x for x in ['p1', 'p2'] if dict_point_total[x] == 21][0]"
   ]
  },
  {
   "cell_type": "code",
   "execution_count": 63,
   "metadata": {},
   "outputs": [
    {
     "data": {
      "text/plain": [
       "0.5567"
      ]
     },
     "execution_count": 63,
     "metadata": {},
     "output_type": "execute_result"
    }
   ],
   "source": [
    "var_sims = 10e3\n",
    "list_test = [func_play_game() for x in range(0, 10000)]\n",
    "s_test = pd.Series(list_test)\n",
    "s_test.value_counts()['p1'] / var_sims"
   ]
  },
  {
   "cell_type": "markdown",
   "metadata": {},
   "source": [
    "5. Consider the bet that all three dice will turn up sixes at least once in n rolls of three dice. Calculate f(n), the probability of at least one triple-six when three dice are rolled n times. Determine the smallest value of n necessary for a favorable bet that a triple-six will occur when three dice are rolled n times. (DeMoivre would say it should be about 216log2 = 149.7 and so would answer 150—see Exercise 1.2.17. Do you agree with him?)\n",
    "\n",
    "I do not agree with DeMoivre. Using 150 rolls I get a probability around 14-16%. I would say that a value of n around 370-380 would be required to get favourable odds. This is based on collective simulations of the rolling of 3 die 1000 times."
   ]
  },
  {
   "cell_type": "code",
   "execution_count": 70,
   "metadata": {},
   "outputs": [],
   "source": [
    "def func_roll_3_dice(n):\n",
    "    list_rand_1 = [random.choice([1, 2, 3, 4, 5, 6]) for x in range(0, n)]\n",
    "    list_rand_2 = [random.choice([1, 2, 3, 4, 5, 6]) for x in range(0, n)]\n",
    "    list_rand_3 = [random.choice([1, 2, 3, 4, 5, 6]) for x in range(0, n)]\n",
    "    s_rand_1 = pd.Series(list_rand_1)\n",
    "    s_rand_2 = pd.Series(list_rand_2)\n",
    "    s_rand_3 = pd.Series(list_rand_3)\n",
    "    df_out = pd.concat([s_rand_1, s_rand_2, s_rand_3], axis=1)\n",
    "    df_out['total'] = df_out.sum(axis=1)\n",
    "    df_out['result'] = df_out['total'] == 6 * 3\n",
    "    return df_out"
   ]
  },
  {
   "cell_type": "code",
   "execution_count": 95,
   "metadata": {},
   "outputs": [
    {
     "name": "stdout",
     "output_type": "stream",
     "text": [
      "150 : 0.157\n",
      "300 : 0.417\n",
      "310 : 0.414\n",
      "320 : 0.448\n",
      "330 : 0.429\n",
      "340 : 0.456\n",
      "350 : 0.479\n",
      "360 : 0.481\n",
      "370 : 0.503\n",
      "380 : 0.532\n",
      "390 : 0.524\n",
      "400 : 0.542\n"
     ]
    }
   ],
   "source": [
    "for i in [150] + [x for x in range(300, 401, 10)]:\n",
    "    list_test = [func_roll_3_dice(i) for x in range(0, 1000)]\n",
    "    print(i, ':', np.mean([df['result'].sum() > 1 for df in list_test]))"
   ]
  },
  {
   "cell_type": "markdown",
   "metadata": {},
   "source": [
    "---\n",
    "**GigiSR**"
   ]
  }
 ],
 "metadata": {
  "kernelspec": {
   "display_name": "Python 3",
   "language": "python",
   "name": "python3"
  },
  "language_info": {
   "codemirror_mode": {
    "name": "ipython",
    "version": 3
   },
   "file_extension": ".py",
   "mimetype": "text/x-python",
   "name": "python",
   "nbconvert_exporter": "python",
   "pygments_lexer": "ipython3",
   "version": "3.6.5"
  }
 },
 "nbformat": 4,
 "nbformat_minor": 2
}
