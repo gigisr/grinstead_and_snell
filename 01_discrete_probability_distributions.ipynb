{
 "cells": [
  {
   "cell_type": "markdown",
   "metadata": {},
   "source": [
    "# Grinstead and Snell's Introduction to Probability\n",
    "\n",
    "## Python setup"
   ]
  },
  {
   "cell_type": "code",
   "execution_count": 78,
   "metadata": {},
   "outputs": [],
   "source": [
    "import IPython.core.display as ICD\n",
    "import pandas as pd\n",
    "import random\n",
    "\n",
    "import matplotlib.pyplot as plt\n",
    "\n",
    "pd.set_option('display.max_rows', 12)\n",
    "pd.set_option('display.max_columns', None)\n",
    "\n",
    "%matplotlib inline"
   ]
  },
  {
   "cell_type": "markdown",
   "metadata": {},
   "source": [
    "## Chapter 1 - Discrete probability distributions\n",
    "\n",
    "### 1.1 Simulation of discrete probabilities\n",
    "\n",
    "#### Example 1.1 (Random Number Generation)\n",
    "\n",
    "The program `RandomNumbers` generates n random real numbers in the interval [0,1], where n is chosen by the user. When we ran the program with n = 20, we obtained the data shown below."
   ]
  },
  {
   "cell_type": "code",
   "execution_count": 2,
   "metadata": {},
   "outputs": [],
   "source": [
    "def RandomNumbers(n):\n",
    "    if (not str(n).isdigit()) | (n < 0):\n",
    "        raise ValueError('The n argument passed is not valid.')\n",
    "    return [random.random() for x in range(0, n)]"
   ]
  },
  {
   "cell_type": "code",
   "execution_count": 3,
   "metadata": {},
   "outputs": [
    {
     "data": {
      "text/plain": [
       "[0.13970774336434344,\n",
       " 0.9468495796835864,\n",
       " 0.45770719338028254,\n",
       " 0.9775840775610317,\n",
       " 0.13619044381440415,\n",
       " 0.42575764167416097,\n",
       " 0.14505794143205963,\n",
       " 0.8970708474389701,\n",
       " 0.8267661097756049,\n",
       " 0.7639455715117358,\n",
       " 0.003203398029316906,\n",
       " 0.6371975044242549,\n",
       " 0.07293863330735739,\n",
       " 0.49532250594454774,\n",
       " 0.22716054438406708,\n",
       " 0.9318802915508104,\n",
       " 0.10873130490124205,\n",
       " 0.5275999399531491,\n",
       " 0.29096682764402004,\n",
       " 0.4827977524457916]"
      ]
     },
     "execution_count": 3,
     "metadata": {},
     "output_type": "execute_result"
    }
   ],
   "source": [
    "RandomNumbers(20)"
   ]
  },
  {
   "cell_type": "markdown",
   "metadata": {},
   "source": [
    "#### Example 1.2 (Coin Tossing) \n",
    "\n",
    "As we have noted, our intuition suggests that the probability of obtaining a head on a single toss of a coin is 1/2. To have the computer toss a coin, we can ask it to pick a random real number in the interval [0,1] and test to see if this number is less than 1/2. If so, we shall call the outcome heads; if not we call it tails. Another way to proceed would be to ask the computer to pick a random integer from the set {0,1}. The program `CoinTosses` carries out the experiment of tossing a coin n times. Running this program, with n = 20, resulted in:\n",
    "\n",
    "THTTTHTTTTHTTTTTHHTT\n",
    "\n",
    "Note that in 20 tosses, we obtained 5 heads and 15 tails. Let us toss a coin n times, where n is much larger than 20, and see if we obtain a proportion of heads closer to our intuitive guess of 1/2. The program `CoinTosses` keeps track of the number of heads. When we ran this program with n = 1000, we obtained 494 heads. When we ran it with n = 10000, we obtained 5039 heads.\n",
    "\n",
    "We notice that when we tossed the coin 10,000 times, the proportion of heads was close to the “true value” .5 for obtaining a head when a coin is tossed. A mathematical model for this experiment is called Bernoulli Trials (see Chapter 3). The Law of Large Numbers, which we shall study later (see Chapter 8), will show that in the Bernoulli Trials model, the proportion of heads should be near .5, consistent with our intuitive idea of the frequency interpretation of probability. Of course, our program could be easily modiﬁed to simulate coins for which the probability of a head is p, where p is a real number between 0 and 1. "
   ]
  },
  {
   "cell_type": "code",
   "execution_count": 4,
   "metadata": {},
   "outputs": [],
   "source": [
    "def CoinTosses(n):\n",
    "    s_rand = pd.Series(RandomNumbers(n))\n",
    "    s_out = s_rand.map(lambda x: 'T' if x < 0.5 else 'H')\n",
    "    return ''.join(s_out.values.tolist())"
   ]
  },
  {
   "cell_type": "code",
   "execution_count": 5,
   "metadata": {},
   "outputs": [
    {
     "name": "stdout",
     "output_type": "stream",
     "text": [
      "HTTTHTTTHTHHHTHHHTHH\n",
      "The number of heads: 11\n",
      "The number of tails: 9\n",
      "The final proportion, count(H) / count(runs): 0.45\n",
      "\n",
      "HHHTHTHHHHTHTTTTTHTTHHHHHTHHTHTHTHTTTTHTTHHTTHHTHTHTHHTTTTTHHTTTTTHHHTTTTHHHHTHHHHHHTHHTTTTTTTHHHTHH\n",
      "The number of heads: 51\n",
      "The number of tails: 49\n",
      "The final proportion, count(H) / count(runs): 0.49\n",
      "\n",
      "TTTTHTTHTHTHTTHHHHTTTHHHTTHHTHTHHHTHTTHTTHHHHHTHTH...\n",
      "The number of heads: 2501\n",
      "The number of tails: 2499\n",
      "The final proportion, count(H) / count(runs): 0.4998\n"
     ]
    }
   ],
   "source": [
    "var_test = CoinTosses(20)\n",
    "print(var_test)\n",
    "print('The number of heads:', len(var_test.replace('T', '')))\n",
    "print('The number of tails:', len(var_test.replace('H', '')))\n",
    "print('The final proportion, count(H) / count(runs):', len(var_test.replace('H', '')) / len(var_test))\n",
    "print()\n",
    "var_test = CoinTosses(100)\n",
    "print(var_test)\n",
    "print('The number of heads:', len(var_test.replace('T', '')))\n",
    "print('The number of tails:', len(var_test.replace('H', '')))\n",
    "print('The final proportion, count(H) / count(runs):', len(var_test.replace('H', '')) / len(var_test))\n",
    "print()\n",
    "var_test = CoinTosses(5000)\n",
    "print(var_test[0:50], '...', sep='')\n",
    "print('The number of heads:', len(var_test.replace('T', '')))\n",
    "print('The number of tails:', len(var_test.replace('H', '')))\n",
    "print('The final proportion, count(H) / count(runs):', len(var_test.replace('H', '')) / len(var_test))"
   ]
  },
  {
   "cell_type": "markdown",
   "metadata": {},
   "source": [
    "#### Example 1.3 (Dice Rolling)\n",
    "\n",
    "We consider a dice game that played an important role in the historical development of probability. The famous letters between Pascal and Fermat, which many believe started a serious study of probability, were instigated by a request for help from a French nobleman and gambler, Chevalier de M´ er´ e. It is said that de M´ er´ e had been betting that, in four rolls of a die, at least one six would turn up. He was winning consistently and, to get more people to play, he changed the game to bet that, in 24 rolls of two dice, a pair of sixes would turn up. It is claimed that de M´ er´ e lost with 24 and felt that 25 rolls were necessary to make the game favorable. It was un grand scandale that mathematics was wrong. \n",
    "\n",
    "We shall try to see if de M´ er´ e is correct by simulating his various bets. The program `DeMere1` simulates a large number of experiments, seeing, in each one, if a six turns up in four rolls of a die. When we ran this program for 1000 plays, a six came up in the ﬁrst four rolls 48.6 percent of the time. When we ran it for 10,000 plays this happened 51.98 percent of the time. We note that the result of the second run suggests that de M´ er´ e was correct in believing that his bet with one die was favorable; however, if we had based our conclusion on the ﬁrst run, we would have decided that he was wrong. Accurate results by simulation require a large number of experiments. "
   ]
  },
  {
   "cell_type": "code",
   "execution_count": 18,
   "metadata": {},
   "outputs": [],
   "source": [
    "def DeMere1(n, roll_count):\n",
    "    list_rand = [[random.choice([1, 2, 3, 4, 5, 6]) for y in range(0, roll_count)] for x in range(0, n)]\n",
    "    s_rand = pd.Series(list_rand)\n",
    "    s_outcome = s_rand.map(lambda x: 6 in x)\n",
    "    df_out = pd.concat([s_rand, s_outcome], axis=1)\n",
    "    return df_out"
   ]
  },
  {
   "cell_type": "code",
   "execution_count": 53,
   "metadata": {},
   "outputs": [
    {
     "data": {
      "text/plain": [
       "True     0.508\n",
       "False    0.492\n",
       "Name: 1, dtype: float64"
      ]
     },
     "metadata": {},
     "output_type": "display_data"
    },
    {
     "data": {
      "text/plain": [
       "True     0.5232\n",
       "False    0.4768\n",
       "Name: 1, dtype: float64"
      ]
     },
     "metadata": {},
     "output_type": "display_data"
    },
    {
     "data": {
      "text/plain": [
       "True     0.51815\n",
       "False    0.48185\n",
       "Name: 1, dtype: float64"
      ]
     },
     "metadata": {},
     "output_type": "display_data"
    },
    {
     "data": {
      "text/plain": [
       "True     0.517342\n",
       "False    0.482658\n",
       "Name: 1, dtype: float64"
      ]
     },
     "metadata": {},
     "output_type": "display_data"
    }
   ],
   "source": [
    "df_test = DeMere1(1000, 4)\n",
    "ICD.display(df_test[1].value_counts() / df_test.shape[0])\n",
    "\n",
    "df_test = DeMere1(10000, 4)\n",
    "ICD.display(df_test[1].value_counts() / df_test.shape[0])\n",
    "\n",
    "df_test = DeMere1(100000, 4)\n",
    "ICD.display(df_test[1].value_counts() / df_test.shape[0])\n",
    "\n",
    "df_test = DeMere1(1000000, 4)\n",
    "ICD.display(df_test[1].value_counts() / df_test.shape[0])"
   ]
  },
  {
   "cell_type": "markdown",
   "metadata": {},
   "source": [
    "The program `DeMere2` simulates de M´ er´e’s second bet that a pair of sixes will occur in n rolls of a pair of dice."
   ]
  },
  {
   "cell_type": "code",
   "execution_count": 31,
   "metadata": {},
   "outputs": [],
   "source": [
    "def DeMere2(n, roll_count):\n",
    "    list_rand = [[\n",
    "        [random.choice([1, 2, 3, 4, 5, 6]), random.choice([1, 2, 3, 4, 5, 6])] \n",
    "        for y in range(0, roll_count)] for x in range(0, n)\n",
    "    ]\n",
    "    s_rand = pd.Series(list_rand)\n",
    "    s_outcome = s_rand.map(lambda x: [6, 6] in x)\n",
    "    df_out = pd.concat([s_rand, s_outcome], axis=1)\n",
    "    return df_out"
   ]
  },
  {
   "cell_type": "code",
   "execution_count": 54,
   "metadata": {},
   "outputs": [
    {
     "data": {
      "text/plain": [
       "False    0.5098\n",
       "True     0.4902\n",
       "Name: 1, dtype: float64"
      ]
     },
     "metadata": {},
     "output_type": "display_data"
    },
    {
     "data": {
      "text/plain": [
       "False    0.50984\n",
       "True     0.49016\n",
       "Name: 1, dtype: float64"
      ]
     },
     "metadata": {},
     "output_type": "display_data"
    },
    {
     "data": {
      "text/plain": [
       "True     0.5078\n",
       "False    0.4922\n",
       "Name: 1, dtype: float64"
      ]
     },
     "metadata": {},
     "output_type": "display_data"
    },
    {
     "data": {
      "text/plain": [
       "True     0.50395\n",
       "False    0.49605\n",
       "Name: 1, dtype: float64"
      ]
     },
     "metadata": {},
     "output_type": "display_data"
    }
   ],
   "source": [
    "df_test = DeMere2(10000, 24)\n",
    "ICD.display(df_test[1].value_counts() / df_test.shape[0])\n",
    "\n",
    "df_test = DeMere2(100000, 24)\n",
    "ICD.display(df_test[1].value_counts() / df_test.shape[0])\n",
    "\n",
    "df_test = DeMere2(10000, 25)\n",
    "ICD.display(df_test[1].value_counts() / df_test.shape[0])\n",
    "\n",
    "df_test = DeMere2(100000, 25)\n",
    "ICD.display(df_test[1].value_counts() / df_test.shape[0])"
   ]
  },
  {
   "cell_type": "markdown",
   "metadata": {},
   "source": [
    "#### Example 1.4 (Heads or Tails) \n",
    "\n",
    "For our next example, we consider a problem where the exact answer is diﬃcult to obtain but for which simulation easily gives the qualitative results. Peter and Paul play a game called heads or tails. In this game, a fair coin is tossed a sequence of times—we choose 40. Each time a head comes up Peter wins 1 penny from Paul, and each time a tail comes up Peter loses 1 penny to Paul. For example, if the results of the 40 tosses are\n",
    "\n",
    "THTHHHHTTHTHHTTHHTTTTHHHTHHTHHHTHHHTTTHH.\n",
    "\n",
    "It is natural to ask for the probability that he will win j pennies; here j could be any even number from −40 to 40. It is reasonable to guess that the value of j with the highest probability is j = 0, since this occurs when the number of heads equals the number of tails. Similarly, we would guess that the values of j with the lowest probabilities are j = ±40."
   ]
  },
  {
   "cell_type": "code",
   "execution_count": 108,
   "metadata": {},
   "outputs": [],
   "source": [
    "def HeadsOrTails(n):\n",
    "    list_rand = [random.choice(['T', 'H']) for x in range(0, n)]\n",
    "    s_rand = pd.Series(list_rand)\n",
    "    s_amt = s_rand.map({'H': 1, 'T': -1})\n",
    "    s_cumsum = s_amt.cumsum()\n",
    "    s_in_lead = s_cumsum > 0\n",
    "    s_in_lead = s_in_lead | ((s_cumsum == 0) & s_in_lead.shift())\n",
    "    df_out = pd.concat([s_rand, s_amt, s_cumsum, s_in_lead], axis=1)\n",
    "    return df_out"
   ]
  },
  {
   "cell_type": "code",
   "execution_count": 134,
   "metadata": {},
   "outputs": [],
   "source": [
    "def HTSimulation(n, run_length=40):\n",
    "    list_sims = [HeadsOrTails(run_length) for x in range(0, int(n))]\n",
    "    return list_sims"
   ]
  },
  {
   "cell_type": "code",
   "execution_count": 137,
   "metadata": {},
   "outputs": [
    {
     "name": "stdout",
     "output_type": "stream",
     "text": [
      "Wall time: 51.4 s\n"
     ]
    }
   ],
   "source": [
    "%%time\n",
    "list_test = HTSimulation(10e3, 40)"
   ]
  },
  {
   "cell_type": "code",
   "execution_count": 138,
   "metadata": {},
   "outputs": [
    {
     "data": {
      "text/plain": [
       "<matplotlib.axes._subplots.AxesSubplot at 0x1e0e4291080>"
      ]
     },
     "execution_count": 138,
     "metadata": {},
     "output_type": "execute_result"
    },
    {
     "data": {
      "image/png": "[encoded data removed]",
      "text/plain": [
       "<Figure size 432x288 with 1 Axes>"
      ]
     },
     "metadata": {},
     "output_type": "display_data"
    }
   ],
   "source": [
    "list_outcomes = [x[1].sum() for x in list_test]\n",
    "pd.Series(list_outcomes).hist(bins=len(set(list_outcomes)))"
   ]
  },
  {
   "cell_type": "markdown",
   "metadata": {},
   "source": [
    "A second interesting question about this game is the following: How many times in the 40 tosses will Peter be in the lead? Looking at the graph of his winnings (above), we see that Peter is in the lead when his winnings are positive, but we have to make some convention when his winnings are 0 if we want all tosses to contribute to the number of times in the lead. We adopt the convention that, when Peter’s winnings are 0, he is in the lead if he was ahead at the previous toss and not if he was behind at the previous toss. With this convention, Peter is in the lead 34 times in our example. Again, our intuition might suggest that the most likely number of times to be in the lead is 1/2 of 40, or 20, and the least likely numbers are the extreme cases of 40 or 0. \n",
    "\n",
    "It is easy to settle this by simulating the game a large number of times and keeping track of the number of times that Peter’s ﬁnal winnings are j, and the number of times that Peter ends up being in the lead by k. The proportions over all games then give estimates for the corresponding probabilities. The program `HTSimulation` carries out this simulation. Note that when there are an even number of tosses in the game, it is possible to be in the lead only an even number of times. We have simulated this game 10,000 times. \n",
    "\n",
    "These graphs, which we call spike graphs, were generated using the program `Spikegraph`. The vertical line, or spike, at position x on the horizontal axis, has a height equal to the proportion of outcomes which equal x. Our intuition about Peter’s ﬁnal winnings was quite correct, but our intuition about the number of times Peter was in the lead was completely wrong. The simulation suggests that the least likely number of times in the lead is 20 and the most likely is 0 or 40. This is indeed correct, and the explanation for it is suggested by playing the game of heads or tails with a large number of tosses and looking at a graph of Peter’s winnings."
   ]
  },
  {
   "cell_type": "code",
   "execution_count": 139,
   "metadata": {},
   "outputs": [],
   "source": [
    "def Spikegraph(values):\n",
    "    plt.figure()\n",
    "    values.plot()\n",
    "    plt.hlines(y=0, xmin=0, xmax=len(values))"
   ]
  },
  {
   "cell_type": "code",
   "execution_count": 148,
   "metadata": {},
   "outputs": [
    {
     "data": {
      "image/png": "[encoded data removed]",
      "text/plain": [
       "<Figure size 432x288 with 1 Axes>"
      ]
     },
     "metadata": {},
     "output_type": "display_data"
    },
    {
     "data": {
      "image/png": "[encoded data removed]",
      "text/plain": [
       "<Figure size 432x288 with 1 Axes>"
      ]
     },
     "metadata": {},
     "output_type": "display_data"
    },
    {
     "data": {
      "image/png": "[encoded data removed]",
      "text/plain": [
       "<Figure size 432x288 with 1 Axes>"
      ]
     },
     "metadata": {},
     "output_type": "display_data"
    }
   ],
   "source": [
    "Spikegraph(list_test[0][2])\n",
    "Spikegraph(list_test[1][2])\n",
    "Spikegraph(list_test[2][2])"
   ]
  },
  {
   "cell_type": "markdown",
   "metadata": {},
   "source": [
    "---\n",
    "**GigiSR**"
   ]
  }
 ],
 "metadata": {
  "kernelspec": {
   "display_name": "Python 3",
   "language": "python",
   "name": "python3"
  },
  "language_info": {
   "codemirror_mode": {
    "name": "ipython",
    "version": 3
   },
   "file_extension": ".py",
   "mimetype": "text/x-python",
   "name": "python",
   "nbconvert_exporter": "python",
   "pygments_lexer": "ipython3",
   "version": "3.6.5"
  }
 },
 "nbformat": 4,
 "nbformat_minor": 2
}
